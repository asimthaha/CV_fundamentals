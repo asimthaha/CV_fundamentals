{
  "nbformat": 4,
  "nbformat_minor": 0,
  "metadata": {
    "colab": {
      "provenance": [],
      "mount_file_id": "1VaIofMz-hTbDCor86rnzGOnB1NXALa6e",
      "authorship_tag": "ABX9TyMzT1ATNax2Y5ucIqJ5ye8/",
      "include_colab_link": true
    },
    "kernelspec": {
      "name": "python3",
      "display_name": "Python 3"
    },
    "language_info": {
      "name": "python"
    }
  },
  "cells": [
    {
      "cell_type": "markdown",
      "metadata": {
        "id": "view-in-github",
        "colab_type": "text"
      },
      "source": [
        "<a href=\"https://colab.research.google.com/github/asimthaha/Pytorch_fundamentals/blob/main/python_operations.ipynb\" target=\"_parent\"><img src=\"https://colab.research.google.com/assets/colab-badge.svg\" alt=\"Open In Colab\"/></a>"
      ]
    },
    {
      "cell_type": "code",
      "source": [
        "from google.colab import drive\n",
        "import os\n",
        "\n",
        "# Mount Google Drive\n",
        "drive.mount('/content/gdrive')"
      ],
      "metadata": {
        "colab": {
          "base_uri": "https://localhost:8080/"
        },
        "id": "nXAe36EFQ_by",
        "outputId": "e0aa1a90-5ad4-4800-dc1e-0032993114ca"
      },
      "execution_count": null,
      "outputs": [
        {
          "output_type": "stream",
          "name": "stdout",
          "text": [
            "Mounted at /content/gdrive\n"
          ]
        }
      ]
    },
    {
      "cell_type": "code",
      "execution_count": null,
      "metadata": {
        "colab": {
          "base_uri": "https://localhost:8080/"
        },
        "id": "oz2BjQKWQtZ1",
        "outputId": "6129fea1-6737-4f0f-fc5c-8474ddb460e3"
      },
      "outputs": [
        {
          "output_type": "stream",
          "name": "stdout",
          "text": [
            "There are 7 folders in the directory.\n"
          ]
        }
      ],
      "source": [
        "# Define the directory path\n",
        "path_to_drive = \"/content/gdrive/MyDrive/Resume\"  # Replace with your actual path\n",
        "\n",
        "# Initialize a counter for folders\n",
        "count_of_folder = 0\n",
        "\n",
        "# Iterate over the directory entries\n",
        "for entry in os.listdir(path_to_drive):\n",
        "    # Check if the entry is a directory using os.path.isdir\n",
        "    if os.path.isdir(os.path.join(path_to_drive, entry)):\n",
        "        count_of_folder += 1\n",
        "\n",
        "# Print the total folder count\n",
        "print(f\"There are {count_of_folder} folders in the directory.\")"
      ]
    },
    {
      "cell_type": "code",
      "source": [
        "import os\n",
        "\n",
        "# Get user input for the folder name\n",
        "name_of_folder = input(\"Enter the name of the folder: \")\n",
        "\n",
        "# Define the directory path\n",
        "path_to_drive = \"/content/gdrive/MyDrive\"  # Replace with your actual base directory path\n",
        "\n",
        "# Build the full path to the user-specified folder\n",
        "full_path = os.path.join(path_to_drive, name_of_folder)\n",
        "\n",
        "# Check if directory exists\n",
        "if not os.path.isdir(full_path):\n",
        "    print(f\"Error: Folder '{name_of_folder}' does not exist in '{path_to_drive}'.\")\n",
        "    exit(1)\n",
        "\n",
        "# Initialize a counter for sub-folders\n",
        "subfolder_count = 0\n",
        "\n",
        "# Use os.walk to iterate recursively through the directory\n",
        "for root, dirs, files in os.walk(full_path):\n",
        "    # Only count directories (not files)\n",
        "    for item in dirs:\n",
        "        subfolder_count += 1\n",
        "\n",
        "# Print the total sub-folder count\n",
        "print(f\"Folder '{name_of_folder}' has {subfolder_count} sub-folders.\")\n"
      ],
      "metadata": {
        "colab": {
          "base_uri": "https://localhost:8080/"
        },
        "id": "idHScG29TAxY",
        "outputId": "2c408610-2571-4b6a-e32c-d631872273cb"
      },
      "execution_count": null,
      "outputs": [
        {
          "output_type": "stream",
          "name": "stdout",
          "text": [
            "Enter the name of the folder: Resume\n",
            "Folder 'Resume' has 7 sub-folders.\n"
          ]
        }
      ]
    },
    {
      "cell_type": "code",
      "source": [
        "import os\n",
        "from datetime import datetime\n",
        "\n",
        "def count_files_created_on_date(directory_path, target_date):\n",
        "    \"\"\"\n",
        "    Counts files and subdirectories created on a specific date in a directory.\n",
        "\n",
        "    Args:\n",
        "        directory_path: The path to the directory to search.\n",
        "        target_date: The date to search for, in YYYY-MM-DD format.\n",
        "\n",
        "    Returns:\n",
        "        A tuple with two integers: the number of files and subdirectories created on the target date.\n",
        "    \"\"\"\n",
        "    file_count, subdirectory_count = 0, 0\n",
        "    target_date = datetime.strptime(target_date, \"%Y-%m-%d\").date()\n",
        "\n",
        "    for root, dirs, files in os.walk(directory_path):\n",
        "        for entry in dirs + files:\n",
        "            entry_path = os.path.join(root, entry)\n",
        "            creation_time = datetime.fromtimestamp(os.path.getctime(entry_path)).date()\n",
        "            modification_time = datetime.fromtimestamp(os.path.getmtime(entry_path)).date()\n",
        "\n",
        "            # Compare date without considering time\n",
        "            if creation_time == target_date or modification_time == target_date:\n",
        "                if os.path.isfile(entry_path):\n",
        "                    file_count += 1\n",
        "                else:\n",
        "                    subdirectory_count += 1\n",
        "\n",
        "    return file_count, subdirectory_count\n",
        "\n",
        "# Example usage\n",
        "directory_path = \"/content/gdrive/MyDrive/Resume\"\n",
        "target_date = \"2024-01-01\"\n",
        "file_count, subdirectory_count = count_files_created_on_date(directory_path, target_date)\n",
        "\n",
        "print(f\"Files: {file_count}, Subdirectories: {subdirectory_count}\")\n"
      ],
      "metadata": {
        "colab": {
          "base_uri": "https://localhost:8080/"
        },
        "id": "TT2znyVXTyGT",
        "outputId": "46fbb106-0da4-4c88-bdab-0da020f84c3d"
      },
      "execution_count": null,
      "outputs": [
        {
          "output_type": "stream",
          "name": "stdout",
          "text": [
            "Files: 6, Subdirectories: 3\n"
          ]
        }
      ]
    },
    {
      "cell_type": "code",
      "source": [
        "# Get user input for the file name and folder path\n",
        "file_name = input(\"Enter the file name to search for: \")\n",
        "folder_path = input(\"Enter the folder path (within your Google Drive): \")\n",
        "\n",
        "# Build the full path using os.path\n",
        "full_path = os.path.join('/content/gdrive/MyDrive/Resume', folder_path)\n",
        "\n",
        "# Initialize file count\n",
        "file_count = 0\n",
        "\n",
        "# Iterate through the directory and its subdirectories\n",
        "for root, _, files in os.walk(full_path):\n",
        "    # Check each file for the target name\n",
        "    for f in files:\n",
        "        if f == file_name:\n",
        "            file_count += 1\n",
        "\n",
        "# Print the final file count\n",
        "print(f\"Found {file_count} occurrences of '{file_name}' in '{folder_path}'.\")"
      ],
      "metadata": {
        "colab": {
          "base_uri": "https://localhost:8080/"
        },
        "id": "JIY0m5CyU8mi",
        "outputId": "0954f892-1c71-4a3d-f886-8f107eb298a0"
      },
      "execution_count": null,
      "outputs": [
        {
          "output_type": "stream",
          "name": "stdout",
          "text": [
            "Enter the file name to search for: Resume_Asim_Thaha_Azeez.pdf\n",
            "Enter the folder path (within your Google Drive): /content/gdrive/MyDrive/Resume/React\n",
            "Found 1 occurrences of 'Resume_Asim_Thaha_Azeez.pdf' in '/content/gdrive/MyDrive/Resume/React'.\n"
          ]
        }
      ]
    },
    {
      "cell_type": "code",
      "source": [],
      "metadata": {
        "id": "7XfR4aTn0r7L"
      },
      "execution_count": null,
      "outputs": []
    }
  ]
}