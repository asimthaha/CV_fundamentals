{
  "nbformat": 4,
  "nbformat_minor": 0,
  "metadata": {
    "colab": {
      "provenance": [],
      "authorship_tag": "ABX9TyM2Q8mj/B+J24N6ldWUZAIB",
      "include_colab_link": true
    },
    "kernelspec": {
      "name": "python3",
      "display_name": "Python 3"
    },
    "language_info": {
      "name": "python"
    }
  },
  "cells": [
    {
      "cell_type": "markdown",
      "metadata": {
        "id": "view-in-github",
        "colab_type": "text"
      },
      "source": [
        "<a href=\"https://colab.research.google.com/github/asimthaha/Pytorch_fundamentals/blob/main/01_Pytorch_workflow.ipynb\" target=\"_parent\"><img src=\"https://colab.research.google.com/assets/colab-badge.svg\" alt=\"Open In Colab\"/></a>"
      ]
    },
    {
      "cell_type": "markdown",
      "source": [
        "# Pytorch Workflow"
      ],
      "metadata": {
        "id": "K1-x_eIJHovr"
      }
    },
    {
      "cell_type": "code",
      "source": [
        "import torch\n",
        "from torch import nn # nn contains all of pytorches building blocks for neural networks\n",
        "import matplotlib.pyplot as plt\n",
        "\n",
        "torch.__version__"
      ],
      "metadata": {
        "id": "E3-XquG5KRYX",
        "colab": {
          "base_uri": "https://localhost:8080/",
          "height": 36
        },
        "outputId": "ddfdec3f-dbf5-4142-fc37-043fc3174544"
      },
      "execution_count": 97,
      "outputs": [
        {
          "output_type": "execute_result",
          "data": {
            "text/plain": [
              "'2.1.0+cu121'"
            ],
            "application/vnd.google.colaboratory.intrinsic+json": {
              "type": "string"
            }
          },
          "metadata": {},
          "execution_count": 97
        }
      ]
    },
    {
      "cell_type": "markdown",
      "source": [
        "## 1. Data Preparing and Loading\n",
        "\n",
        "excel\n",
        "images\n",
        "videos\n",
        "audios\n",
        "DNA data\n",
        "text\n",
        "\n",
        "ML is a game of two parts:\n",
        "1. data to numerical representation\n",
        "2. build a modle to learn patterns in that numerical representation\n"
      ],
      "metadata": {
        "id": "CjRzWw8QLiy3"
      }
    },
    {
      "cell_type": "code",
      "source": [
        "# create known parameters\n",
        "weight = 0.7\n",
        "bias = 0.3\n",
        "\n",
        "start = 0\n",
        "end=1\n",
        "step = 0.02\n",
        "X = torch.arange(start, end, step).unsqueeze(dim=1)\n",
        "Y = weight * X + bias\n",
        "\n",
        "X[:10], Y[:10], len(X), len(Y)"
      ],
      "metadata": {
        "colab": {
          "base_uri": "https://localhost:8080/"
        },
        "id": "tbiEBqXALr-o",
        "outputId": "9648af3a-155b-42d4-ab9d-c97a9e413ac1"
      },
      "execution_count": 98,
      "outputs": [
        {
          "output_type": "execute_result",
          "data": {
            "text/plain": [
              "(tensor([[0.0000],\n",
              "         [0.0200],\n",
              "         [0.0400],\n",
              "         [0.0600],\n",
              "         [0.0800],\n",
              "         [0.1000],\n",
              "         [0.1200],\n",
              "         [0.1400],\n",
              "         [0.1600],\n",
              "         [0.1800]]),\n",
              " tensor([[0.3000],\n",
              "         [0.3140],\n",
              "         [0.3280],\n",
              "         [0.3420],\n",
              "         [0.3560],\n",
              "         [0.3700],\n",
              "         [0.3840],\n",
              "         [0.3980],\n",
              "         [0.4120],\n",
              "         [0.4260]]),\n",
              " 50,\n",
              " 50)"
            ]
          },
          "metadata": {},
          "execution_count": 98
        }
      ]
    },
    {
      "cell_type": "markdown",
      "source": [
        "### splitting the data into train and test set"
      ],
      "metadata": {
        "id": "jkGjskstAo7o"
      }
    },
    {
      "cell_type": "code",
      "source": [
        "train_split = int(0.8 * len(X))\n",
        "train_split"
      ],
      "metadata": {
        "colab": {
          "base_uri": "https://localhost:8080/"
        },
        "id": "Do7A_n5KB4lZ",
        "outputId": "8c7f2ac1-1cf2-45cc-833b-6bfd5367ffee"
      },
      "execution_count": 99,
      "outputs": [
        {
          "output_type": "execute_result",
          "data": {
            "text/plain": [
              "40"
            ]
          },
          "metadata": {},
          "execution_count": 99
        }
      ]
    },
    {
      "cell_type": "code",
      "source": [
        "X_train, Y_train = X[:train_split], Y[:train_split]\n",
        "X_test, Y_test  = X[train_split:], Y[train_split:]\n",
        "\n",
        "len(X_train), len(Y_train), len(X_test), len(Y_test)"
      ],
      "metadata": {
        "colab": {
          "base_uri": "https://localhost:8080/"
        },
        "id": "V--SUSiaGbz1",
        "outputId": "7b9a0a2a-08c9-49cf-b0d0-ea1bd680c170"
      },
      "execution_count": 100,
      "outputs": [
        {
          "output_type": "execute_result",
          "data": {
            "text/plain": [
              "(40, 40, 10, 10)"
            ]
          },
          "metadata": {},
          "execution_count": 100
        }
      ]
    },
    {
      "cell_type": "markdown",
      "source": [
        "### Visualizing data"
      ],
      "metadata": {
        "id": "SWhylLzDPerD"
      }
    },
    {
      "cell_type": "code",
      "source": [
        "def plot_predictions(train_data=X_train,\n",
        "                     train_labels=Y_train,\n",
        "                     test_data= X_test,\n",
        "                     test_labels=Y_test,\n",
        "                     predictions = None):\n",
        "  \"\"\"\n",
        "  plots training data, test data and compare predictions.\n",
        "  \"\"\"\n",
        "  plt.figure(figsize=(10,7))\n",
        "\n",
        "  # plot training data in blue\n",
        "  plt.scatter(train_data, train_labels, c=\"b\", s=4, label=\"Training Data\")\n",
        "\n",
        "  # plot test data in green\n",
        "  plt.scatter(test_data, test_labels, c=\"g\", s=4, label=\"Testing Data\")\n",
        "\n",
        "  # are there predictions\n",
        "  if predictions is not None:\n",
        "    plt.scatter(test_data, predictions, c=\"r\", s=4, label=\"Predictions\")\n",
        "\n",
        "  # show the legends\n",
        "  plt.legend(prop={\"size\":14});"
      ],
      "metadata": {
        "id": "_s6oYpDsPLjT"
      },
      "execution_count": 101,
      "outputs": []
    },
    {
      "cell_type": "code",
      "source": [
        "plot_predictions();"
      ],
      "metadata": {
        "colab": {
          "base_uri": "https://localhost:8080/",
          "height": 471
        },
        "id": "qCtKjmXGUg8n",
        "outputId": "5ae094a7-d310-4129-ed7d-869d70587368"
      },
      "execution_count": 102,
      "outputs": [
        {
          "output_type": "display_data",
          "data": {
            "text/plain": [
              "<Figure size 1000x700 with 1 Axes>"
            ],
            "image/png": "[encoded data removed]"
          },
          "metadata": {}
        }
      ]
    },
    {
      "cell_type": "markdown",
      "source": [
        "## 2. Building a model\n",
        "\n",
        "What our model does:\n",
        "* Start with random values (weight, bias)\n",
        "* Look at training data and adjust hte random values to better represent(or get closer to) the ideal values(the weight & bias values we used to create the data)\n",
        "\n",
        "How Does it do so:\n",
        "* Through two main Algo:\n",
        "* Gradient Descent\n",
        "* Back Propagation\n",
        "\n"
      ],
      "metadata": {
        "id": "uZnzsuO9VSsw"
      }
    },
    {
      "cell_type": "code",
      "source": [
        "# create a linear regression model class\n",
        "from torch import nn #(nn = neural networks)\n",
        "\n",
        "class LinearRegressionModel(nn.Module):\n",
        "  # pytorch inherits from nn.Module\n",
        "  # Base class for all neural network modules\n",
        "  def __init__(self):\n",
        "    super().__init__()\n",
        "    self.weights = nn.Parameter(torch.randn(1, # we start with a random weight and try to adjust it to the ideal weight\n",
        "                                            requires_grad=True, # this parameter can be updated via gradient descent\n",
        "                                            dtype = torch.float))\n",
        "    self.bias= nn.Parameter(torch.randn(1,\n",
        "                                        requires_grad=True,\n",
        "                                        dtype=float))\n",
        "\n",
        "    # forward method to define computation in the model\n",
        "  def forward(self, x:torch.Tensor) -> torch.Tensor: # <- \"x\" is the input data\n",
        "    return self.weights * x + self.bias # linear regression formula\n"
      ],
      "metadata": {
        "id": "2qyg5EXcV0tP"
      },
      "execution_count": 103,
      "outputs": []
    },
    {
      "cell_type": "markdown",
      "source": [
        "* inherit the nn.Module class\n",
        "* override the forward method"
      ],
      "metadata": {
        "id": "L6byDNe-_q0m"
      }
    },
    {
      "cell_type": "markdown",
      "source": [
        "### pytorch model building essentials\n",
        "\n",
        "* torch.nn - contains all of the buildings for computational graphs(neural network)\n",
        "* torch..nn.Parameter - what parameter should our model try and learn\n",
        "* torch.nn.Module - base class for all neural network modules(if we use it, override the forward() method)\n",
        "* torch.optim - this is where the optimizer , helps in gradient descent\n",
        "* def forward() - override this method"
      ],
      "metadata": {
        "id": "zf_LR_ker4VL"
      }
    },
    {
      "cell_type": "markdown",
      "source": [
        "### checking the contents of our pytorch model\n",
        "\n",
        "using .parameters()"
      ],
      "metadata": {
        "id": "OMiXVDQIbI1N"
      }
    },
    {
      "cell_type": "code",
      "source": [
        "torch.manual_seed(42)\n",
        "torch.randn(1)"
      ],
      "metadata": {
        "colab": {
          "base_uri": "https://localhost:8080/"
        },
        "id": "Dgy35TFXeSDY",
        "outputId": "c516ba67-7947-4d4f-e1c0-7bccedfafe8b"
      },
      "execution_count": 104,
      "outputs": [
        {
          "output_type": "execute_result",
          "data": {
            "text/plain": [
              "tensor([0.3367])"
            ]
          },
          "metadata": {},
          "execution_count": 104
        }
      ]
    },
    {
      "cell_type": "code",
      "source": [
        "torch.manual_seed(42)\n",
        "\n",
        "model0 = LinearRegressionModel()\n",
        "\n",
        "# checking the parameters\n",
        "list(model0.parameters())"
      ],
      "metadata": {
        "colab": {
          "base_uri": "https://localhost:8080/"
        },
        "id": "Z-EcVPrUdFDo",
        "outputId": "85db5a67-58f6-4c6b-bafb-d2ae46b0f518"
      },
      "execution_count": 105,
      "outputs": [
        {
          "output_type": "execute_result",
          "data": {
            "text/plain": [
              "[Parameter containing:\n",
              " tensor([0.3367], requires_grad=True),\n",
              " Parameter containing:\n",
              " tensor([0.1288], dtype=torch.float64, requires_grad=True)]"
            ]
          },
          "metadata": {},
          "execution_count": 105
        }
      ]
    },
    {
      "cell_type": "code",
      "source": [
        "model0.state_dict()"
      ],
      "metadata": {
        "colab": {
          "base_uri": "https://localhost:8080/"
        },
        "id": "XZUbt1UNe_Ve",
        "outputId": "8647bd63-9410-4833-ef8b-1d169113dc10"
      },
      "execution_count": 106,
      "outputs": [
        {
          "output_type": "execute_result",
          "data": {
            "text/plain": [
              "OrderedDict([('weights', tensor([0.3367])),\n",
              "             ('bias', tensor([0.1288], dtype=torch.float64))])"
            ]
          },
          "metadata": {},
          "execution_count": 106
        }
      ]
    },
    {
      "cell_type": "markdown",
      "source": [
        "### Making predictions through torch.inference_mode()"
      ],
      "metadata": {
        "id": "e7RlreFqf3dS"
      }
    },
    {
      "cell_type": "code",
      "source": [
        "with torch.inference_mode(): #turns off inference mode for gradient descent\n",
        "  Y_pred = model0(X_test)\n",
        "\n",
        "Y_pred"
      ],
      "metadata": {
        "colab": {
          "base_uri": "https://localhost:8080/"
        },
        "id": "YJASzZADgHAa",
        "outputId": "d6d99ecd-16d6-40e3-84ef-7a3df0b1e745"
      },
      "execution_count": 107,
      "outputs": [
        {
          "output_type": "execute_result",
          "data": {
            "text/plain": [
              "tensor([[0.3982],\n",
              "        [0.4049],\n",
              "        [0.4116],\n",
              "        [0.4184],\n",
              "        [0.4251],\n",
              "        [0.4318],\n",
              "        [0.4386],\n",
              "        [0.4453],\n",
              "        [0.4520],\n",
              "        [0.4588]], dtype=torch.float64)"
            ]
          },
          "metadata": {},
          "execution_count": 107
        }
      ]
    },
    {
      "cell_type": "code",
      "source": [
        "plot_predictions(predictions=Y_pred)"
      ],
      "metadata": {
        "colab": {
          "base_uri": "https://localhost:8080/",
          "height": 471
        },
        "id": "kWhBihhahVAc",
        "outputId": "139a7a26-18d6-4c27-9158-f48419d6c7bc"
      },
      "execution_count": 108,
      "outputs": [
        {
          "output_type": "display_data",
          "data": {
            "text/plain": [
              "<Figure size 1000x700 with 1 Axes>"
            ],
            "image/png": "[encoded data removed]"
          },
          "metadata": {}
        }
      ]
    },
    {
      "cell_type": "markdown",
      "source": [
        "## Train the model\n",
        "\n",
        "Loss Function\n",
        "\n",
        "Optimizer -contains two atrributes:\n",
        "* param - the paramter of a model you like to optimize\n",
        "* lr - learning rate - defines how big or small the optimizer changes the parameters value with each step\n",
        "\n",
        "MAE - Mean Absolute Error\n",
        "\n",
        "\n",
        "\n"
      ],
      "metadata": {
        "id": "5xpj1llSkOxn"
      }
    },
    {
      "cell_type": "code",
      "source": [
        " #MAE - Mean Absolute Error - nn.L1loss() equivalent in pytorch\n",
        " # setup  a loss function\n",
        "\n",
        "loss_fn = nn.L1Loss()\n",
        "loss_fn\n",
        "\n",
        " #setup an optimize\n",
        "optimizer = torch.optim.SGD(\n",
        "    params=model0.parameters(),\n",
        "    lr=0.01) #lr = learning rate = possobly the most important hyper parameter you can set\n",
        "#SGD - Stochastic Gradient Descent"
      ],
      "metadata": {
        "id": "X7d-1YxFkTap"
      },
      "execution_count": 109,
      "outputs": []
    },
    {
      "cell_type": "markdown",
      "source": [
        "### Building a Training loop\n",
        "\n",
        "Training loop:\n",
        "* Loop Thorught the data\n",
        "* Forward pass(involves data moving through our models `forward()` functions) to make predictions on data - also called forward propagation\n",
        "*  Calculate the loss (compare forward pass predictions to ground truth labels)\n",
        "* Optimizer zero grad\n",
        "* Loss backward - move backwards the network to calculate the gradients of each of the parameters ogf our model w.r.t the loss(**backpropagation**)\n",
        "* Optimizer step - use the optimizer to adjust our models parameters to try  and improve the  (**Gradient Descent**)\n"
      ],
      "metadata": {
        "id": "iZ-Yg8SHuUMR"
      }
    },
    {
      "cell_type": "code",
      "source": [
        "torch.manual_seed(42)\n",
        "\n",
        "# An epoch is one loop through the data..(this is a hyper paramter beacuse we set it ourselves)\n",
        "epochs = 200\n",
        "epoch_count=[]\n",
        "loss_values = []\n",
        "test_loss_values=[]\n",
        "\n",
        "### Training\n",
        "# 0. loop thorugh the data..\n",
        "for epoch in range(epochs):\n",
        "  # set the model to training mode - it sets all parameters that require gradients that require gradients\n",
        "  model0.train()\n",
        "\n",
        "  # 1. Forward Pass\n",
        "  Y_pred = model0(X_train)\n",
        "\n",
        "  # 2. Calculate the loss\n",
        "  loss = loss_fn(Y_pred, Y_train)\n",
        "  # print(f\"Loss: {loss}\")\n",
        "  # 3. Optimizer zero grad\n",
        "  optimizer.zero_grad()\n",
        "\n",
        "  # 4. Perform backpropagation on the loss w.r.t the parameters of the model\n",
        "  loss.backward()\n",
        "\n",
        "  # 5. Step the optimizer (perform gradient descent)\n",
        "  optimizer.step() # by default how the optimizer changes will accumulate through the loop\n",
        "\n",
        "  ### Testing\n",
        "  model0.eval() # turns off different settings in the model not needed for evaluation/testing (dropout/batch norm layers)\n",
        "  with torch.inference_mode(): # turns off gradient tracking\n",
        "    # 1. Do the Forward Pass\n",
        "    test_pred = model0(X_test)\n",
        "\n",
        "    # 2. Claculate the loss\n",
        "    test_loss = loss_fn(test_pred, Y_test)\n",
        "\n",
        "  # print out whats happening\n",
        "  if epoch % 10 == 0:\n",
        "    epoch_count.append(epoch)\n",
        "    loss_values.append(loss)\n",
        "    test_loss_values.append(test_loss)\n",
        "    print(f\"Epoch: {epoch} | Test: {loss} | Test loss: {test_loss}\")\n",
        "\n",
        "    # print out model state_dict()\n",
        "    print(model0.state_dict())\n"
      ],
      "metadata": {
        "colab": {
          "base_uri": "https://localhost:8080/"
        },
        "id": "DlDq4tURdFgB",
        "outputId": "547d686b-ecf3-446c-c377-423e534c2cb1"
      },
      "execution_count": 110,
      "outputs": [
        {
          "output_type": "stream",
          "name": "stdout",
          "text": [
            "Epoch: 0 | Test: 0.3128813517678373 | Test loss: 0.4810651795382455\n",
            "OrderedDict([('weights', tensor([0.3406])), ('bias', tensor([0.1388], dtype=torch.float64))])\n",
            "Epoch: 10 | Test: 0.19767138632506426 | Test loss: 0.346355255078788\n",
            "OrderedDict([('weights', tensor([0.3796])), ('bias', tensor([0.2388], dtype=torch.float64))])\n",
            "Epoch: 20 | Test: 0.08908726094682914 | Test loss: 0.21729659528684148\n",
            "OrderedDict([('weights', tensor([0.4184])), ('bias', tensor([0.3333], dtype=torch.float64))])\n",
            "Epoch: 30 | Test: 0.05314853437903411 | Test loss: 0.14464020247411263\n",
            "OrderedDict([('weights', tensor([0.4512])), ('bias', tensor([0.3768], dtype=torch.float64))])\n",
            "Epoch: 40 | Test: 0.045437965798191725 | Test loss: 0.11360953504991064\n",
            "OrderedDict([('weights', tensor([0.4748])), ('bias', tensor([0.3868], dtype=torch.float64))])\n",
            "Epoch: 50 | Test: 0.04167863324115598 | Test loss: 0.09919951553296583\n",
            "OrderedDict([('weights', tensor([0.4938])), ('bias', tensor([0.3843], dtype=torch.float64))])\n",
            "Epoch: 60 | Test: 0.03818932177440422 | Test loss: 0.08886642379712592\n",
            "OrderedDict([('weights', tensor([0.5116])), ('bias', tensor([0.3788], dtype=torch.float64))])\n",
            "Epoch: 70 | Test: 0.034760872570398914 | Test loss: 0.08059396738957894\n",
            "OrderedDict([('weights', tensor([0.5288])), ('bias', tensor([0.3718], dtype=torch.float64))])\n",
            "Epoch: 80 | Test: 0.031323813460567805 | Test loss: 0.07232151694249642\n",
            "OrderedDict([('weights', tensor([0.5459])), ('bias', tensor([0.3648], dtype=torch.float64))])\n",
            "Epoch: 90 | Test: 0.027887361238497978 | Test loss: 0.06473595685910709\n",
            "OrderedDict([('weights', tensor([0.5629])), ('bias', tensor([0.3573], dtype=torch.float64))])\n",
            "Epoch: 100 | Test: 0.024458912034492648 | Test loss: 0.056463512372489165\n",
            "OrderedDict([('weights', tensor([0.5800])), ('bias', tensor([0.3503], dtype=torch.float64))])\n",
            "Epoch: 110 | Test: 0.021020179208354882 | Test loss: 0.048191052984709826\n",
            "OrderedDict([('weights', tensor([0.5972])), ('bias', tensor([0.3433], dtype=torch.float64))])\n",
            "Epoch: 120 | Test: 0.01758540265836911 | Test loss: 0.040605486940856125\n",
            "OrderedDict([('weights', tensor([0.6141])), ('bias', tensor([0.3358], dtype=torch.float64))])\n",
            "Epoch: 130 | Test: 0.014155357881994759 | Test loss: 0.0323330275530769\n",
            "OrderedDict([('weights', tensor([0.6313])), ('bias', tensor([0.3288], dtype=torch.float64))])\n",
            "Epoch: 140 | Test: 0.010716548774564513 | Test loss: 0.02406058902692334\n",
            "OrderedDict([('weights', tensor([0.6485])), ('bias', tensor([0.3218], dtype=torch.float64))])\n",
            "Epoch: 150 | Test: 0.007283442308727353 | Test loss: 0.016475022983069642\n",
            "OrderedDict([('weights', tensor([0.6654])), ('bias', tensor([0.3143], dtype=torch.float64))])\n",
            "Epoch: 160 | Test: 0.0038517246542366657 | Test loss: 0.008202572535987019\n",
            "OrderedDict([('weights', tensor([0.6826])), ('bias', tensor([0.3073], dtype=torch.float64))])\n",
            "Epoch: 170 | Test: 0.008931417997662885 | Test loss: 0.0050241684431983295\n",
            "OrderedDict([('weights', tensor([0.6951])), ('bias', tensor([0.2993], dtype=torch.float64))])\n",
            "Epoch: 180 | Test: 0.008931417997662885 | Test loss: 0.0050241684431983295\n",
            "OrderedDict([('weights', tensor([0.6951])), ('bias', tensor([0.2993], dtype=torch.float64))])\n",
            "Epoch: 190 | Test: 0.008931417997662885 | Test loss: 0.0050241684431983295\n",
            "OrderedDict([('weights', tensor([0.6951])), ('bias', tensor([0.2993], dtype=torch.float64))])\n"
          ]
        }
      ]
    },
    {
      "cell_type": "code",
      "source": [
        "import numpy as np\n",
        "\n",
        "# plot the loss curves\n",
        "plt.plot(epoch_count, np.array(torch.tensor(loss_values).cpu().numpy()), label=\"Train Loss\")\n",
        "plt.plot(epoch_count, test_loss_values, label=\"Test Loss\")\n",
        "plt.title(\"Training and test loss Curves\")\n",
        "plt.ylabel(\"Loss\")\n",
        "plt.xlabel(\"Epochs\")\n",
        "plt.legend()\n",
        "\n"
      ],
      "metadata": {
        "colab": {
          "base_uri": "https://localhost:8080/",
          "height": 489
        },
        "id": "SYztMSA585Eh",
        "outputId": "144dfb13-f6e2-4487-a9d2-f2ba92169352"
      },
      "execution_count": 111,
      "outputs": [
        {
          "output_type": "execute_result",
          "data": {
            "text/plain": [
              "<matplotlib.legend.Legend at 0x7e5643cc2dd0>"
            ]
          },
          "metadata": {},
          "execution_count": 111
        },
        {
          "output_type": "display_data",
          "data": {
            "text/plain": [
              "<Figure size 640x480 with 1 Axes>"
            ],
            "image/png": "[encoded data removed]"
          },
          "metadata": {}
        }
      ]
    },
    {
      "cell_type": "code",
      "source": [
        "with torch.inference_mode():\n",
        "  Y_pred_new = model0(X_test)"
      ],
      "metadata": {
        "id": "MTTmmx2Dw22n"
      },
      "execution_count": 112,
      "outputs": []
    },
    {
      "cell_type": "code",
      "source": [
        "plot_predictions(predictions=Y_pred_new)"
      ],
      "metadata": {
        "colab": {
          "base_uri": "https://localhost:8080/",
          "height": 471
        },
        "id": "O3P85EI5yYQM",
        "outputId": "0ba6ce9a-eb80-4bf9-c2a2-b60b60f01371"
      },
      "execution_count": 113,
      "outputs": [
        {
          "output_type": "display_data",
          "data": {
            "text/plain": [
              "<Figure size 1000x700 with 1 Axes>"
            ],
            "image/png": "[encoded data removed]"
          },
          "metadata": {}
        }
      ]
    },
    {
      "cell_type": "code",
      "source": [
        "model0.state_dict()"
      ],
      "metadata": {
        "colab": {
          "base_uri": "https://localhost:8080/"
        },
        "id": "Zf2gcnrB3ivI",
        "outputId": "343a1e74-265a-4fb1-e3ee-7a6eb2b6c79f"
      },
      "execution_count": 114,
      "outputs": [
        {
          "output_type": "execute_result",
          "data": {
            "text/plain": [
              "OrderedDict([('weights', tensor([0.6990])),\n",
              "             ('bias', tensor([0.3093], dtype=torch.float64))])"
            ]
          },
          "metadata": {},
          "execution_count": 114
        }
      ]
    }
  ]
}