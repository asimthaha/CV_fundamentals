{
  "nbformat": 4,
  "nbformat_minor": 0,
  "metadata": {
    "colab": {
      "provenance": [],
      "authorship_tag": "ABX9TyOYp8w3il/IqxqRf9gSRE+o",
      "include_colab_link": true
    },
    "kernelspec": {
      "name": "python3",
      "display_name": "Python 3"
    },
    "language_info": {
      "name": "python"
    }
  },
  "cells": [
    {
      "cell_type": "markdown",
      "metadata": {
        "id": "view-in-github",
        "colab_type": "text"
      },
      "source": [
        "<a href=\"https://colab.research.google.com/github/asimthaha/Pytorch_fundamentals/blob/main/01_Pytorch_workflow.ipynb\" target=\"_parent\"><img src=\"https://colab.research.google.com/assets/colab-badge.svg\" alt=\"Open In Colab\"/></a>"
      ]
    },
    {
      "cell_type": "markdown",
      "source": [
        "# Pytorch Workflow"
      ],
      "metadata": {
        "id": "K1-x_eIJHovr"
      }
    },
    {
      "cell_type": "code",
      "source": [
        "import torch\n",
        "from torch import nn # nn contains all of pytorches building blocks for neural networks\n",
        "import matplotlib.pyplot as plt\n",
        "\n",
        "torch.__version__"
      ],
      "metadata": {
        "id": "E3-XquG5KRYX",
        "colab": {
          "base_uri": "https://localhost:8080/",
          "height": 36
        },
        "outputId": "963a7ddd-cc7a-4892-ce7d-bec80b40f515"
      },
      "execution_count": 36,
      "outputs": [
        {
          "output_type": "execute_result",
          "data": {
            "text/plain": [
              "'2.1.0+cu121'"
            ],
            "application/vnd.google.colaboratory.intrinsic+json": {
              "type": "string"
            }
          },
          "metadata": {},
          "execution_count": 36
        }
      ]
    },
    {
      "cell_type": "markdown",
      "source": [
        "## 1. Data Preparing and Loading\n",
        "\n",
        "excel\n",
        "images\n",
        "videos\n",
        "audios\n",
        "DNA data\n",
        "text\n",
        "\n",
        "ML is a game of two parts:\n",
        "1. data to numerical representation\n",
        "2. build a modle to learn patterns in that numerical representation\n"
      ],
      "metadata": {
        "id": "CjRzWw8QLiy3"
      }
    },
    {
      "cell_type": "code",
      "source": [
        "# create known parameters\n",
        "weight = 0.7\n",
        "bias = 0.3\n",
        "\n",
        "start = 0\n",
        "end=1\n",
        "step = 0.02\n",
        "X = torch.arange(start, end, step).unsqueeze(dim=1)\n",
        "Y = weight * X + bias\n",
        "\n",
        "X[:10], Y[:10], len(X), len(Y)"
      ],
      "metadata": {
        "colab": {
          "base_uri": "https://localhost:8080/"
        },
        "id": "tbiEBqXALr-o",
        "outputId": "2ccc6e1a-8a07-481f-84a8-a32e63f04f2b"
      },
      "execution_count": 37,
      "outputs": [
        {
          "output_type": "execute_result",
          "data": {
            "text/plain": [
              "(tensor([[0.0000],\n",
              "         [0.0200],\n",
              "         [0.0400],\n",
              "         [0.0600],\n",
              "         [0.0800],\n",
              "         [0.1000],\n",
              "         [0.1200],\n",
              "         [0.1400],\n",
              "         [0.1600],\n",
              "         [0.1800]]),\n",
              " tensor([[0.3000],\n",
              "         [0.3140],\n",
              "         [0.3280],\n",
              "         [0.3420],\n",
              "         [0.3560],\n",
              "         [0.3700],\n",
              "         [0.3840],\n",
              "         [0.3980],\n",
              "         [0.4120],\n",
              "         [0.4260]]),\n",
              " 50,\n",
              " 50)"
            ]
          },
          "metadata": {},
          "execution_count": 37
        }
      ]
    },
    {
      "cell_type": "markdown",
      "source": [
        "### splitting the data into train and test set"
      ],
      "metadata": {
        "id": "jkGjskstAo7o"
      }
    },
    {
      "cell_type": "code",
      "source": [
        "train_split = int(0.8 * len(X))\n",
        "train_split"
      ],
      "metadata": {
        "colab": {
          "base_uri": "https://localhost:8080/"
        },
        "id": "Do7A_n5KB4lZ",
        "outputId": "7d85bd5f-a81f-4756-afc2-72690d2fe7f8"
      },
      "execution_count": 38,
      "outputs": [
        {
          "output_type": "execute_result",
          "data": {
            "text/plain": [
              "40"
            ]
          },
          "metadata": {},
          "execution_count": 38
        }
      ]
    },
    {
      "cell_type": "code",
      "source": [
        "X_train, Y_train = X[:train_split], Y[:train_split]\n",
        "X_test, Y_test  = X[train_split:], Y[train_split:]\n",
        "\n",
        "len(X_train), len(Y_train), len(X_test), len(Y_test)"
      ],
      "metadata": {
        "colab": {
          "base_uri": "https://localhost:8080/"
        },
        "id": "V--SUSiaGbz1",
        "outputId": "0af4d1b7-88ba-45de-d038-8d8e4258c9ff"
      },
      "execution_count": 39,
      "outputs": [
        {
          "output_type": "execute_result",
          "data": {
            "text/plain": [
              "(40, 40, 10, 10)"
            ]
          },
          "metadata": {},
          "execution_count": 39
        }
      ]
    },
    {
      "cell_type": "markdown",
      "source": [
        "### Visualizing data"
      ],
      "metadata": {
        "id": "SWhylLzDPerD"
      }
    },
    {
      "cell_type": "code",
      "source": [
        "def plot_predictions(train_data=X_train,\n",
        "                     train_labels=Y_train,\n",
        "                     test_data= X_test,\n",
        "                     test_labels=Y_test,\n",
        "                     predictions = None):\n",
        "  \"\"\"\n",
        "  plots training data, test data and compare predictions.\n",
        "  \"\"\"\n",
        "  plt.figure(figsize=(10,7))\n",
        "\n",
        "  # plot training data in blue\n",
        "  plt.scatter(train_data, train_labels, c=\"b\", s=4, label=\"Training Data\")\n",
        "\n",
        "  # plot test data in green\n",
        "  plt.scatter(test_data, test_labels, c=\"g\", s=4, label=\"Testing Data\")\n",
        "\n",
        "  # are there predictions\n",
        "  if predictions is not None:\n",
        "    plt.scatter(test_data, predictions, c=\"r\", s=4, label=\"Predictions\")\n",
        "\n",
        "  # show the legends\n",
        "  plt.legend(prop={\"size\":14});"
      ],
      "metadata": {
        "id": "_s6oYpDsPLjT"
      },
      "execution_count": 40,
      "outputs": []
    },
    {
      "cell_type": "code",
      "source": [
        "plot_predictions();"
      ],
      "metadata": {
        "colab": {
          "base_uri": "https://localhost:8080/",
          "height": 599
        },
        "id": "qCtKjmXGUg8n",
        "outputId": "2b18241b-795a-40a7-984c-8c122041f123"
      },
      "execution_count": 41,
      "outputs": [
        {
          "output_type": "display_data",
          "data": {
            "text/plain": [
              "<Figure size 1000x700 with 1 Axes>"
            ],
            "image/png": "[encoded data removed]"
          },
          "metadata": {}
        }
      ]
    },
    {
      "cell_type": "markdown",
      "source": [
        "## 2. Building a model\n",
        "\n",
        "What our model does:\n",
        "* Start with random values (weight, bias)\n",
        "* Look at training data and adjust hte random values to better represent(or get closer to) the ideal values(the weight & bias values we used to create the data)\n",
        "\n",
        "How Does it do so:\n",
        "* Through two main Algo:\n",
        "* Gradient Descent\n",
        "* Back Propagation\n",
        "\n"
      ],
      "metadata": {
        "id": "uZnzsuO9VSsw"
      }
    },
    {
      "cell_type": "code",
      "source": [
        "# create a linear regression model class\n",
        "from torch import nn #(nn = neural networks)\n",
        "\n",
        "class LinearRegressionModel(nn.Module):\n",
        "  # pytorch inherits from nn.Module\n",
        "  # Base class for all neural network modules\n",
        "  def __init__(self):\n",
        "    super().__init__()\n",
        "    self.weights = nn.Parameter(torch.randn(1, # we start with a random weight and try to adjust it to the ideal weight\n",
        "                                            requires_grad=True, # this parameter can be updated via gradient descent\n",
        "                                            dtype = torch.float))\n",
        "    self.bias= nn.Parameter(torch.randn(1,\n",
        "                                        requires_grad=True,\n",
        "                                        dtype=float))\n",
        "\n",
        "    # forward method to define computation in the model\n",
        "  def forward(self, x:torch.Tensor) -> torch.Tensor: # <- \"x\" is the input data\n",
        "    return self.weights * x + self.bias # linear regression formula\n"
      ],
      "metadata": {
        "id": "2qyg5EXcV0tP"
      },
      "execution_count": 42,
      "outputs": []
    },
    {
      "cell_type": "markdown",
      "source": [
        "* inherit the nn.Module class\n",
        "* override the forward method"
      ],
      "metadata": {
        "id": "L6byDNe-_q0m"
      }
    },
    {
      "cell_type": "markdown",
      "source": [
        "### pytorch model building essentials\n",
        "\n",
        "* torch.nn - contains all of the buildings for computational graphs(neural network)\n",
        "* torch..nn.Parameter - what parameter should our model try and learn\n",
        "* torch.nn.Module - base class for all neural network modules(if we use it, override the forward() method)\n",
        "* torch.optim - this is where the optimizer , helps in gradient descent\n",
        "* def forward() - override this method"
      ],
      "metadata": {
        "id": "zf_LR_ker4VL"
      }
    },
    {
      "cell_type": "markdown",
      "source": [
        "### checking the contents of our pytorch model\n",
        "\n",
        "using .parameters()"
      ],
      "metadata": {
        "id": "OMiXVDQIbI1N"
      }
    },
    {
      "cell_type": "code",
      "source": [
        "torch.manual_seed(42)\n",
        "torch.randn(1)"
      ],
      "metadata": {
        "colab": {
          "base_uri": "https://localhost:8080/"
        },
        "id": "Dgy35TFXeSDY",
        "outputId": "60e9d26e-97b1-4526-a2a0-79d3fc87de30"
      },
      "execution_count": 43,
      "outputs": [
        {
          "output_type": "execute_result",
          "data": {
            "text/plain": [
              "tensor([0.3367])"
            ]
          },
          "metadata": {},
          "execution_count": 43
        }
      ]
    },
    {
      "cell_type": "code",
      "source": [
        "torch.manual_seed(42)\n",
        "\n",
        "model0 = LinearRegressionModel()\n",
        "\n",
        "# checking the parameters\n",
        "list(model0.parameters())"
      ],
      "metadata": {
        "colab": {
          "base_uri": "https://localhost:8080/"
        },
        "id": "Z-EcVPrUdFDo",
        "outputId": "c7be6a19-1bea-4327-8d2b-dd75c1dc2abe"
      },
      "execution_count": 44,
      "outputs": [
        {
          "output_type": "execute_result",
          "data": {
            "text/plain": [
              "[Parameter containing:\n",
              " tensor([0.3367], requires_grad=True),\n",
              " Parameter containing:\n",
              " tensor([0.1288], dtype=torch.float64, requires_grad=True)]"
            ]
          },
          "metadata": {},
          "execution_count": 44
        }
      ]
    },
    {
      "cell_type": "code",
      "source": [
        "model0.state_dict()"
      ],
      "metadata": {
        "colab": {
          "base_uri": "https://localhost:8080/"
        },
        "id": "XZUbt1UNe_Ve",
        "outputId": "fbb17bfb-4bac-4e16-f429-3befb7dff27f"
      },
      "execution_count": 45,
      "outputs": [
        {
          "output_type": "execute_result",
          "data": {
            "text/plain": [
              "OrderedDict([('weights', tensor([0.3367])),\n",
              "             ('bias', tensor([0.1288], dtype=torch.float64))])"
            ]
          },
          "metadata": {},
          "execution_count": 45
        }
      ]
    },
    {
      "cell_type": "markdown",
      "source": [
        "### Making predictions through torch.inference_mode()"
      ],
      "metadata": {
        "id": "e7RlreFqf3dS"
      }
    },
    {
      "cell_type": "code",
      "source": [
        "with torch.inference_mode(): #turns off inference mode for gradient descent\n",
        "  Y_preds = model0(X_test)\n",
        "\n",
        "Y_preds"
      ],
      "metadata": {
        "colab": {
          "base_uri": "https://localhost:8080/"
        },
        "id": "YJASzZADgHAa",
        "outputId": "76fbda84-7ba1-4652-eac3-608887d50f35"
      },
      "execution_count": 46,
      "outputs": [
        {
          "output_type": "execute_result",
          "data": {
            "text/plain": [
              "tensor([[0.3982],\n",
              "        [0.4049],\n",
              "        [0.4116],\n",
              "        [0.4184],\n",
              "        [0.4251],\n",
              "        [0.4318],\n",
              "        [0.4386],\n",
              "        [0.4453],\n",
              "        [0.4520],\n",
              "        [0.4588]], dtype=torch.float64)"
            ]
          },
          "metadata": {},
          "execution_count": 46
        }
      ]
    },
    {
      "cell_type": "code",
      "source": [
        "plot_predictions(predictions=Y_preds)"
      ],
      "metadata": {
        "colab": {
          "base_uri": "https://localhost:8080/",
          "height": 599
        },
        "id": "kWhBihhahVAc",
        "outputId": "1065c3fe-3150-416d-879d-2f51a9e6334e"
      },
      "execution_count": 47,
      "outputs": [
        {
          "output_type": "display_data",
          "data": {
            "text/plain": [
              "<Figure size 1000x700 with 1 Axes>"
            ],
            "image/png": "[encoded data removed]"
          },
          "metadata": {}
        }
      ]
    },
    {
      "cell_type": "markdown",
      "source": [
        "## Train the model\n",
        "\n",
        "Loss Function\n",
        "\n",
        "Optimizer -contains two atrributes:\n",
        "* param - the paramter of a model you like to optimize\n",
        "* lr - learning rate - defines how big or small the optimizer changes the parameters value with each step\n",
        "\n",
        "MAE - Mean Absolute Error\n",
        "\n",
        "\n",
        "\n"
      ],
      "metadata": {
        "id": "5xpj1llSkOxn"
      }
    },
    {
      "cell_type": "code",
      "source": [
        " #MAE - Mean Absolute Error - nn.L1loss() equivalent in pytorch\n",
        " # setup  a loss function\n",
        "\n",
        "loss_fn = nn.L1Loss()\n",
        "loss_fn\n",
        "\n",
        " #setup an optimize\n",
        "optimizer = torch.optim.SGD(\n",
        "    params=model0.parameters(),\n",
        "    lr=0.01) #lr = learning rate = possobly the most important hyper parameter you can set\n",
        "#SGD - Stochastic Gradient Descent"
      ],
      "metadata": {
        "id": "X7d-1YxFkTap"
      },
      "execution_count": 48,
      "outputs": []
    },
    {
      "cell_type": "markdown",
      "source": [
        "### Building a Training loop\n",
        "\n",
        "Training loop:\n",
        "* Loop Thorught the data\n",
        "* Forward pass(involves data moving through our models `forward()` functions) to make predictions on data - also called forward propagation\n",
        "*  Calculate the loss (compare forward pass predictions to ground truth labels)\n",
        "* Optimizer zero grad\n",
        "* Loss backward - move backwards the network to calculate the gradients of each of the parameters ogf our model w.r.t the loss(**backpropagation**)\n",
        "* Optimizer step - use the optimizer to adjust our models parameters to try  and improve the  (**Gradient Descent**)\n"
      ],
      "metadata": {
        "id": "iZ-Yg8SHuUMR"
      }
    },
    {
      "cell_type": "code",
      "source": [
        "torch.manual_seed(42)\n",
        "\n",
        "# An epoch is one loop through the data..(this is a hyper paramter beacuse we set it ourselves)\n",
        "epochs = 200\n",
        "epoch_count=[]\n",
        "loss_values = []\n",
        "test_loss_values=[]\n",
        "\n",
        "### Training\n",
        "# 0. loop thorugh the data..\n",
        "for epoch in range(epochs):\n",
        "  # set the model to training mode - it sets all parameters that require gradients that require gradients\n",
        "  model0.train()\n",
        "\n",
        "  # 1. Forward Pass\n",
        "  Y_pred = model0(X_train)\n",
        "\n",
        "  # 2. Calculate the loss\n",
        "  loss = loss_fn(Y_pred, Y_train)\n",
        "  # print(f\"Loss: {loss}\")\n",
        "  # 3. Optimizer zero grad\n",
        "  optimizer.zero_grad()\n",
        "\n",
        "  # 4. Perform backpropagation on the loss w.r.t the parameters of the model\n",
        "  loss.backward()\n",
        "\n",
        "  # 5. Step the optimizer (perform gradient descent)\n",
        "  optimizer.step() # by default how the optimizer changes will accumulate through the loop\n",
        "\n",
        "  ### Testing\n",
        "  model0.eval() # turns off different settings in the model not needed for evaluation/testing (dropout/batch norm layers)\n",
        "  with torch.inference_mode(): # turns off gradient tracking\n",
        "    # 1. Do the Forward Pass\n",
        "    test_pred = model0(X_test)\n",
        "\n",
        "    # 2. Claculate the loss\n",
        "    test_loss = loss_fn(test_pred, Y_test)\n",
        "\n",
        "  # print out whats happening\n",
        "  if epoch % 10 == 0:\n",
        "    epoch_count.append(epoch)\n",
        "    loss_values.append(loss)\n",
        "    test_loss_values.append(test_loss)\n",
        "    print(f\"Epoch: {epoch} | Test: {loss} | Test loss: {test_loss}\")\n",
        "\n",
        "    # print out model state_dict()\n",
        "    print(model0.state_dict())\n"
      ],
      "metadata": {
        "colab": {
          "base_uri": "https://localhost:8080/"
        },
        "id": "DlDq4tURdFgB",
        "outputId": "c2a92af2-5de9-4ba3-c999-1aaf8398f03e"
      },
      "execution_count": 49,
      "outputs": [
        {
          "output_type": "stream",
          "name": "stdout",
          "text": [
            "Epoch: 0 | Test: 0.3128813517678373 | Test loss: 0.4810651795382455\n",
            "OrderedDict([('weights', tensor([0.3406])), ('bias', tensor([0.1388], dtype=torch.float64))])\n",
            "Epoch: 10 | Test: 0.19767138632506426 | Test loss: 0.346355255078788\n",
            "OrderedDict([('weights', tensor([0.3796])), ('bias', tensor([0.2388], dtype=torch.float64))])\n",
            "Epoch: 20 | Test: 0.08908726094682914 | Test loss: 0.21729659528684148\n",
            "OrderedDict([('weights', tensor([0.4184])), ('bias', tensor([0.3333], dtype=torch.float64))])\n",
            "Epoch: 30 | Test: 0.05314853437903411 | Test loss: 0.14464020247411263\n",
            "OrderedDict([('weights', tensor([0.4512])), ('bias', tensor([0.3768], dtype=torch.float64))])\n",
            "Epoch: 40 | Test: 0.045437965798191725 | Test loss: 0.11360953504991064\n",
            "OrderedDict([('weights', tensor([0.4748])), ('bias', tensor([0.3868], dtype=torch.float64))])\n",
            "Epoch: 50 | Test: 0.04167863324115598 | Test loss: 0.09919951553296583\n",
            "OrderedDict([('weights', tensor([0.4938])), ('bias', tensor([0.3843], dtype=torch.float64))])\n",
            "Epoch: 60 | Test: 0.03818932177440422 | Test loss: 0.08886642379712592\n",
            "OrderedDict([('weights', tensor([0.5116])), ('bias', tensor([0.3788], dtype=torch.float64))])\n",
            "Epoch: 70 | Test: 0.034760872570398914 | Test loss: 0.08059396738957894\n",
            "OrderedDict([('weights', tensor([0.5288])), ('bias', tensor([0.3718], dtype=torch.float64))])\n",
            "Epoch: 80 | Test: 0.031323813460567805 | Test loss: 0.07232151694249642\n",
            "OrderedDict([('weights', tensor([0.5459])), ('bias', tensor([0.3648], dtype=torch.float64))])\n",
            "Epoch: 90 | Test: 0.027887361238497978 | Test loss: 0.06473595685910709\n",
            "OrderedDict([('weights', tensor([0.5629])), ('bias', tensor([0.3573], dtype=torch.float64))])\n",
            "Epoch: 100 | Test: 0.024458912034492648 | Test loss: 0.056463512372489165\n",
            "OrderedDict([('weights', tensor([0.5800])), ('bias', tensor([0.3503], dtype=torch.float64))])\n",
            "Epoch: 110 | Test: 0.021020179208354882 | Test loss: 0.048191052984709826\n",
            "OrderedDict([('weights', tensor([0.5972])), ('bias', tensor([0.3433], dtype=torch.float64))])\n",
            "Epoch: 120 | Test: 0.01758540265836911 | Test loss: 0.040605486940856125\n",
            "OrderedDict([('weights', tensor([0.6141])), ('bias', tensor([0.3358], dtype=torch.float64))])\n",
            "Epoch: 130 | Test: 0.014155357881994759 | Test loss: 0.0323330275530769\n",
            "OrderedDict([('weights', tensor([0.6313])), ('bias', tensor([0.3288], dtype=torch.float64))])\n",
            "Epoch: 140 | Test: 0.010716548774564513 | Test loss: 0.02406058902692334\n",
            "OrderedDict([('weights', tensor([0.6485])), ('bias', tensor([0.3218], dtype=torch.float64))])\n",
            "Epoch: 150 | Test: 0.007283442308727353 | Test loss: 0.016475022983069642\n",
            "OrderedDict([('weights', tensor([0.6654])), ('bias', tensor([0.3143], dtype=torch.float64))])\n",
            "Epoch: 160 | Test: 0.0038517246542366657 | Test loss: 0.008202572535987019\n",
            "OrderedDict([('weights', tensor([0.6826])), ('bias', tensor([0.3073], dtype=torch.float64))])\n",
            "Epoch: 170 | Test: 0.008931417997662885 | Test loss: 0.0050241684431983295\n",
            "OrderedDict([('weights', tensor([0.6951])), ('bias', tensor([0.2993], dtype=torch.float64))])\n",
            "Epoch: 180 | Test: 0.008931417997662885 | Test loss: 0.0050241684431983295\n",
            "OrderedDict([('weights', tensor([0.6951])), ('bias', tensor([0.2993], dtype=torch.float64))])\n",
            "Epoch: 190 | Test: 0.008931417997662885 | Test loss: 0.0050241684431983295\n",
            "OrderedDict([('weights', tensor([0.6951])), ('bias', tensor([0.2993], dtype=torch.float64))])\n"
          ]
        }
      ]
    },
    {
      "cell_type": "code",
      "source": [
        "import numpy as np\n",
        "\n",
        "# plot the loss curves\n",
        "plt.plot(epoch_count, np.array(torch.tensor(loss_values).cpu().numpy()), label=\"Train Loss\")\n",
        "plt.plot(epoch_count, test_loss_values, label=\"Test Loss\")\n",
        "plt.title(\"Training and test loss Curves\")\n",
        "plt.ylabel(\"Loss\")\n",
        "plt.xlabel(\"Epochs\")\n",
        "plt.legend()"
      ],
      "metadata": {
        "colab": {
          "base_uri": "https://localhost:8080/",
          "height": 489
        },
        "id": "SYztMSA585Eh",
        "outputId": "87488680-0322-490d-87d5-46a4a52a2b34"
      },
      "execution_count": 50,
      "outputs": [
        {
          "output_type": "execute_result",
          "data": {
            "text/plain": [
              "<matplotlib.legend.Legend at 0x7d2a98a6ce80>"
            ]
          },
          "metadata": {},
          "execution_count": 50
        },
        {
          "output_type": "display_data",
          "data": {
            "text/plain": [
              "<Figure size 640x480 with 1 Axes>"
            ],
            "image/png": "[encoded data removed]"
          },
          "metadata": {}
        }
      ]
    },
    {
      "cell_type": "code",
      "source": [
        "with torch.inference_mode():\n",
        "  Y_pred_new = model0(X_test)"
      ],
      "metadata": {
        "id": "MTTmmx2Dw22n"
      },
      "execution_count": 51,
      "outputs": []
    },
    {
      "cell_type": "code",
      "source": [
        "plot_predictions(predictions=Y_preds)"
      ],
      "metadata": {
        "colab": {
          "base_uri": "https://localhost:8080/",
          "height": 599
        },
        "id": "--7am081AvjY",
        "outputId": "97ef9aa0-8460-42e8-bf62-8f3473ea9180"
      },
      "execution_count": 52,
      "outputs": [
        {
          "output_type": "display_data",
          "data": {
            "text/plain": [
              "<Figure size 1000x700 with 1 Axes>"
            ],
            "image/png": "[encoded data removed]"
          },
          "metadata": {}
        }
      ]
    },
    {
      "cell_type": "code",
      "source": [
        "plot_predictions(predictions=Y_pred_new)"
      ],
      "metadata": {
        "colab": {
          "base_uri": "https://localhost:8080/",
          "height": 599
        },
        "id": "O3P85EI5yYQM",
        "outputId": "91a8dfcf-81c8-4d94-e5e3-55f62fe7408e"
      },
      "execution_count": 53,
      "outputs": [
        {
          "output_type": "display_data",
          "data": {
            "text/plain": [
              "<Figure size 1000x700 with 1 Axes>"
            ],
            "image/png": "[encoded data removed]"
          },
          "metadata": {}
        }
      ]
    },
    {
      "cell_type": "code",
      "source": [
        "model0.state_dict()"
      ],
      "metadata": {
        "colab": {
          "base_uri": "https://localhost:8080/"
        },
        "id": "Zf2gcnrB3ivI",
        "outputId": "d2f68a3b-3d2c-4525-c659-a82be4438ff4"
      },
      "execution_count": 54,
      "outputs": [
        {
          "output_type": "execute_result",
          "data": {
            "text/plain": [
              "OrderedDict([('weights', tensor([0.6990])),\n",
              "             ('bias', tensor([0.3093], dtype=torch.float64))])"
            ]
          },
          "metadata": {},
          "execution_count": 54
        }
      ]
    },
    {
      "cell_type": "markdown",
      "source": [
        "## Saving a model in pytorch\n",
        "\n",
        "3 main methods for saving and loading:\n",
        "* torch.save() - save a pytorch object in python pickle format\n",
        "* torch.load() - load a pytorch object\n",
        "* torch.nn.Module.load_state_dict() - allows to load a models saves state dictionary\n"
      ],
      "metadata": {
        "id": "F6H0E2tfs9oA"
      }
    },
    {
      "cell_type": "code",
      "source": [
        "from pathlib import Path\n",
        "\n",
        "MODEL_PATH=Path(\"models\")\n",
        "MODEL_PATH.mkdir(parents=True, exist_ok=True)\n",
        "\n",
        "MODEL_NAME=\"01_Pytorch_workflow_model0.pth\"\n",
        "MODEL_SAVE_PATH = MODEL_PATH / MODEL_NAME\n",
        "\n",
        "print(f\"Saving Model to: {MODEL_SAVE_PATH}\")"
      ],
      "metadata": {
        "colab": {
          "base_uri": "https://localhost:8080/"
        },
        "id": "5WKIPDQitCrF",
        "outputId": "5eeeb980-071b-4e12-f05b-913eab17ecf0"
      },
      "execution_count": 55,
      "outputs": [
        {
          "output_type": "stream",
          "name": "stdout",
          "text": [
            "Saving Model to: models/01_Pytorch_workflow_model0.pth\n"
          ]
        }
      ]
    },
    {
      "cell_type": "code",
      "source": [
        "# save the model\n",
        "torch.save(obj=model0.state_dict(), f= MODEL_SAVE_PATH)"
      ],
      "metadata": {
        "id": "1DJoeyLo38dH"
      },
      "execution_count": 56,
      "outputs": []
    },
    {
      "cell_type": "code",
      "source": [
        "!ls -l models"
      ],
      "metadata": {
        "colab": {
          "base_uri": "https://localhost:8080/"
        },
        "id": "Dedfbvmn4t-R",
        "outputId": "6e10406d-6df3-4012-ce36-45084f883f53"
      },
      "execution_count": 57,
      "outputs": [
        {
          "output_type": "stream",
          "name": "stdout",
          "text": [
            "total 4\n",
            "-rw-r--r-- 1 root root 1738 Dec 20 11:13 01_Pytorch_workflow_model0.pth\n"
          ]
        }
      ]
    },
    {
      "cell_type": "markdown",
      "source": [
        "## Loading a model\n",
        "\n",
        "load the saved state_dict()"
      ],
      "metadata": {
        "id": "LszH_C3c-Aa4"
      }
    },
    {
      "cell_type": "code",
      "source": [
        "# To load a in a saved state dict we have to instantiate a new instance of our model class\n",
        "loaded_model0 = LinearRegressionModel()\n",
        "\n",
        "# load the save state_dict of model0\n",
        "loaded_model0.load_state_dict(torch.load(f=MODEL_SAVE_PATH))"
      ],
      "metadata": {
        "colab": {
          "base_uri": "https://localhost:8080/"
        },
        "id": "1pjgC_bq-lQ8",
        "outputId": "86ac8e53-b2a5-41ab-fa8d-1fb910c0b14c"
      },
      "execution_count": 58,
      "outputs": [
        {
          "output_type": "execute_result",
          "data": {
            "text/plain": [
              "<All keys matched successfully>"
            ]
          },
          "metadata": {},
          "execution_count": 58
        }
      ]
    },
    {
      "cell_type": "code",
      "source": [
        "loaded_model0.state_dict()"
      ],
      "metadata": {
        "colab": {
          "base_uri": "https://localhost:8080/"
        },
        "id": "B8ya7b9e_XJ4",
        "outputId": "f72f3ecf-4e29-4ce3-9fee-4dbc75d1cdb9"
      },
      "execution_count": 59,
      "outputs": [
        {
          "output_type": "execute_result",
          "data": {
            "text/plain": [
              "OrderedDict([('weights', tensor([0.6990])),\n",
              "             ('bias', tensor([0.3093], dtype=torch.float64))])"
            ]
          },
          "metadata": {},
          "execution_count": 59
        }
      ]
    },
    {
      "cell_type": "code",
      "source": [
        "# making some predictions to check our loaded model\n",
        "\n",
        "loaded_model0.eval()\n",
        "with torch.inference_mode():\n",
        "  loaded_model_preds = loaded_model0(X_test)\n",
        "loaded_model_preds"
      ],
      "metadata": {
        "colab": {
          "base_uri": "https://localhost:8080/"
        },
        "id": "zGGnc7th_bdw",
        "outputId": "04ada797-45d6-4cb5-aae8-71ce77703143"
      },
      "execution_count": 60,
      "outputs": [
        {
          "output_type": "execute_result",
          "data": {
            "text/plain": [
              "tensor([[0.8685],\n",
              "        [0.8825],\n",
              "        [0.8965],\n",
              "        [0.9105],\n",
              "        [0.9245],\n",
              "        [0.9384],\n",
              "        [0.9524],\n",
              "        [0.9664],\n",
              "        [0.9804],\n",
              "        [0.9944]], dtype=torch.float64)"
            ]
          },
          "metadata": {},
          "execution_count": 60
        }
      ]
    },
    {
      "cell_type": "code",
      "source": [
        "# make some model preds fro original model\n",
        "\n",
        "model0.eval()\n",
        "with torch.inference_mode():\n",
        "  Y_preds = model0(X_test)"
      ],
      "metadata": {
        "id": "2rb5o9LGBnYw"
      },
      "execution_count": 61,
      "outputs": []
    },
    {
      "cell_type": "code",
      "source": [
        "# compare loaded model pred with original model preds\n",
        "\n",
        "Y_preds == loaded_model_preds"
      ],
      "metadata": {
        "colab": {
          "base_uri": "https://localhost:8080/"
        },
        "id": "ErzX4gsb_kV_",
        "outputId": "b2bb17ae-e6cb-4879-8125-85648cd6fe67"
      },
      "execution_count": 62,
      "outputs": [
        {
          "output_type": "execute_result",
          "data": {
            "text/plain": [
              "tensor([[True],\n",
              "        [True],\n",
              "        [True],\n",
              "        [True],\n",
              "        [True],\n",
              "        [True],\n",
              "        [True],\n",
              "        [True],\n",
              "        [True],\n",
              "        [True]])"
            ]
          },
          "metadata": {},
          "execution_count": 62
        }
      ]
    },
    {
      "cell_type": "markdown",
      "source": [
        "## 6. Putting it all together\n",
        "\n"
      ],
      "metadata": {
        "id": "ltUTJsYtA8C7"
      }
    },
    {
      "cell_type": "code",
      "source": [
        "# import pytorch and matplotlib\n",
        "\n",
        "import torch\n",
        "from torch import nn\n",
        "import matplotlib.pyplot as plt"
      ],
      "metadata": {
        "id": "DSLwOcTbF0wZ"
      },
      "execution_count": 63,
      "outputs": []
    },
    {
      "cell_type": "markdown",
      "source": [
        "### create device agnostic code\n",
        "which means if we have a gpu.. the code will run on it\n",
        "else it run in cpu"
      ],
      "metadata": {
        "id": "hZFTdLITGW2X"
      }
    },
    {
      "cell_type": "code",
      "source": [
        "# Device agnostic code\n",
        "device = \"cuda\" if torch.cuda.is_available() else \"cpu\"\n",
        "print(f\"Using Device: {device}\")"
      ],
      "metadata": {
        "colab": {
          "base_uri": "https://localhost:8080/"
        },
        "id": "rBXXWGJRGmG-",
        "outputId": "2a4a6608-385e-4fbd-863c-fbf7cd84c3a1"
      },
      "execution_count": 64,
      "outputs": [
        {
          "output_type": "stream",
          "name": "stdout",
          "text": [
            "Using Device: cpu\n"
          ]
        }
      ]
    },
    {
      "cell_type": "markdown",
      "source": [
        "### 6.1 Data"
      ],
      "metadata": {
        "id": "v8ZvJ5KnCpeT"
      }
    },
    {
      "cell_type": "code",
      "source": [
        "# create data using the LINEAR REGRESSION FORMULA (y = mx+c)\n",
        "# m = weight\n",
        "# c = bias\n",
        "\n",
        "weight=0.7\n",
        "bias=0.3\n",
        "\n",
        "start=0\n",
        "end=1\n",
        "step=0.02\n",
        "\n",
        "# create x and y\n",
        "X=torch.arange(start,end,step).unsqueeze(dim=1) # without unsqueeze erros will popup\n",
        "Y= weight * X + bias\n",
        "X[:10], Y[:10]"
      ],
      "metadata": {
        "colab": {
          "base_uri": "https://localhost:8080/"
        },
        "id": "6cKPr0kMCqnk",
        "outputId": "c8e68cd1-0bec-4753-e7e7-5cb6aec8ebbf"
      },
      "execution_count": 65,
      "outputs": [
        {
          "output_type": "execute_result",
          "data": {
            "text/plain": [
              "(tensor([[0.0000],\n",
              "         [0.0200],\n",
              "         [0.0400],\n",
              "         [0.0600],\n",
              "         [0.0800],\n",
              "         [0.1000],\n",
              "         [0.1200],\n",
              "         [0.1400],\n",
              "         [0.1600],\n",
              "         [0.1800]]),\n",
              " tensor([[0.3000],\n",
              "         [0.3140],\n",
              "         [0.3280],\n",
              "         [0.3420],\n",
              "         [0.3560],\n",
              "         [0.3700],\n",
              "         [0.3840],\n",
              "         [0.3980],\n",
              "         [0.4120],\n",
              "         [0.4260]]))"
            ]
          },
          "metadata": {},
          "execution_count": 65
        }
      ]
    },
    {
      "cell_type": "code",
      "source": [
        "# split the data\n",
        "train_split = int(0.8 * len(X))\n",
        "X_train, Y_train = X[:train_split], Y[:train_split]\n",
        "X_test, Y_test = X[train_split:], Y[train_split:]\n",
        "\n",
        "len(X_train), len(Y_train), len(X_test), len(Y_test)"
      ],
      "metadata": {
        "colab": {
          "base_uri": "https://localhost:8080/"
        },
        "id": "zV_WiiJWIk1m",
        "outputId": "444fe6bd-4104-415f-d881-f766da3cbe9f"
      },
      "execution_count": 66,
      "outputs": [
        {
          "output_type": "execute_result",
          "data": {
            "text/plain": [
              "(40, 40, 10, 10)"
            ]
          },
          "metadata": {},
          "execution_count": 66
        }
      ]
    },
    {
      "cell_type": "code",
      "source": [
        "# plot the data\n",
        "\n",
        "plot_predictions(X_train, Y_train, X_test, Y_test)"
      ],
      "metadata": {
        "colab": {
          "base_uri": "https://localhost:8080/",
          "height": 599
        },
        "id": "X5RhNR3uJpCZ",
        "outputId": "eb82a70a-b8f0-4721-e615-f644eb2c8b9f"
      },
      "execution_count": 67,
      "outputs": [
        {
          "output_type": "display_data",
          "data": {
            "text/plain": [
              "<Figure size 1000x700 with 1 Axes>"
            ],
            "image/png": "[encoded data removed]"
          },
          "metadata": {}
        }
      ]
    },
    {
      "cell_type": "markdown",
      "source": [
        "### 6.2 Building a Model (Linear Regression)\n"
      ],
      "metadata": {
        "id": "K-BFaWuwJoWX"
      }
    },
    {
      "cell_type": "code",
      "source": [
        "# create a linear model by  subclassing  nn.Module\n",
        "\n",
        "class LinearRegressionModelV2(nn.Module):\n",
        "  def __init__(self):\n",
        "    super().__init__()\n",
        "    # Use nn.Linear() for creating the model parameters\n",
        "    self.linear_layer= nn.Linear(in_features=1, out_features=1)\n",
        "\n",
        "  def forward(self, X:torch.Tensor) -> torch.Tensor:\n",
        "    return self.linear_layer(X)\n",
        "\n",
        "# set the manual seed\n",
        "torch.manual_seed(42)\n",
        "model1 = LinearRegressionModelV2()\n",
        "model1.state_dict()"
      ],
      "metadata": {
        "colab": {
          "base_uri": "https://localhost:8080/"
        },
        "id": "3IwcWbm9NwmS",
        "outputId": "1c58afcb-a51e-440e-c1f7-948f7109863c"
      },
      "execution_count": 76,
      "outputs": [
        {
          "output_type": "execute_result",
          "data": {
            "text/plain": [
              "OrderedDict([('linear_layer.weight', tensor([[0.7645]])),\n",
              "             ('linear_layer.bias', tensor([0.8300]))])"
            ]
          },
          "metadata": {},
          "execution_count": 76
        }
      ]
    },
    {
      "cell_type": "code",
      "source": [
        "next(model1.parameters()).device"
      ],
      "metadata": {
        "colab": {
          "base_uri": "https://localhost:8080/"
        },
        "id": "TBVSF2mo7rsK",
        "outputId": "7c45ae6b-3451-44d4-ac83-6224217d0e2a"
      },
      "execution_count": 77,
      "outputs": [
        {
          "output_type": "execute_result",
          "data": {
            "text/plain": [
              "device(type='cpu')"
            ]
          },
          "metadata": {},
          "execution_count": 77
        }
      ]
    },
    {
      "cell_type": "code",
      "source": [
        "model1.to(device)\n",
        "next(model1.parameters()).device"
      ],
      "metadata": {
        "colab": {
          "base_uri": "https://localhost:8080/"
        },
        "id": "XdUvSL_V40Da",
        "outputId": "12e00b31-8009-49e9-9684-b9a8e7a5b59c"
      },
      "execution_count": 78,
      "outputs": [
        {
          "output_type": "execute_result",
          "data": {
            "text/plain": [
              "device(type='cpu')"
            ]
          },
          "metadata": {},
          "execution_count": 78
        }
      ]
    },
    {
      "cell_type": "code",
      "source": [
        "model1.state_dict()"
      ],
      "metadata": {
        "colab": {
          "base_uri": "https://localhost:8080/"
        },
        "id": "3YVzsKLx8Kh_",
        "outputId": "5a77258f-948b-4f71-a56a-ee07857fd684"
      },
      "execution_count": 79,
      "outputs": [
        {
          "output_type": "execute_result",
          "data": {
            "text/plain": [
              "OrderedDict([('linear_layer.weight', tensor([[0.7645]])),\n",
              "             ('linear_layer.bias', tensor([0.8300]))])"
            ]
          },
          "metadata": {},
          "execution_count": 79
        }
      ]
    },
    {
      "cell_type": "markdown",
      "source": [
        "### 6.3 Training\n",
        "\n",
        "For training we need:\n",
        "* Loss Function\n",
        "* Optimizer\n",
        "* Training loop\n",
        "* Testing loop\n"
      ],
      "metadata": {
        "id": "FVAU323c7evI"
      }
    },
    {
      "cell_type": "code",
      "source": [
        "# setup the loss function\n",
        "loss_fn = nn.L1Loss() # same as MAE\n",
        "\n",
        "#setup our optimizer\n",
        "optimizer = torch.optim.SGD(params=model1.parameters(), lr=0.01)"
      ],
      "metadata": {
        "id": "QK3afdjr8E_k"
      },
      "execution_count": 80,
      "outputs": []
    },
    {
      "cell_type": "code",
      "source": [
        "# lets do out training loop\n",
        "torch.manual_seed(42)\n",
        "\n",
        "epochs=200\n",
        "\n",
        "for epoch in range(epochs):\n",
        "  model1.train()\n",
        "\n",
        "  # forward pass\n",
        "  Y_pred = model1(X_train)\n",
        "\n",
        "  # calcuate the loss\n",
        "  loss=loss_fn(Y_pred, Y_train)\n",
        "\n",
        "  # Optimizer zero grad\n",
        "  optimizer.zero_grad()\n",
        "\n",
        "  # perform backpropagation\n",
        "  loss.backward()\n",
        "\n",
        "  # optimizer step\n",
        "  optimizer.step()\n",
        "\n",
        "  ### Testing\n",
        "  model1.eval()\n",
        "  with torch.inference_mode():\n",
        "    test_pred = model1(X_test)\n",
        "\n",
        "    test_loss = loss_fn(test_pred, Y_test)\n",
        "\n",
        "  # print out whats happening\n",
        "  if epoch % 10 == 0:\n",
        "    print(f\"Epoch: {epoch} | Loss: {loss} | Test Loss: {test_loss}\")\n"
      ],
      "metadata": {
        "colab": {
          "base_uri": "https://localhost:8080/"
        },
        "id": "ka4YU5kY8vrF",
        "outputId": "76a611eb-a2f6-416e-c834-3007531f7926"
      },
      "execution_count": 81,
      "outputs": [
        {
          "output_type": "stream",
          "name": "stdout",
          "text": [
            "Epoch: 0 | Loss: 0.5551779866218567 | Test Loss: 0.5739762187004089\n",
            "Epoch: 10 | Loss: 0.4399680495262146 | Test Loss: 0.4392663538455963\n",
            "Epoch: 20 | Loss: 0.3247582018375397 | Test Loss: 0.30455657839775085\n",
            "Epoch: 30 | Loss: 0.20954827964305878 | Test Loss: 0.16984674334526062\n",
            "Epoch: 40 | Loss: 0.09433844685554504 | Test Loss: 0.03513689711689949\n",
            "Epoch: 50 | Loss: 0.023886386305093765 | Test Loss: 0.04784906655550003\n",
            "Epoch: 60 | Loss: 0.0199567973613739 | Test Loss: 0.04580312222242355\n",
            "Epoch: 70 | Loss: 0.016517987474799156 | Test Loss: 0.0375305712223053\n",
            "Epoch: 80 | Loss: 0.013089170679450035 | Test Loss: 0.029944902285933495\n",
            "Epoch: 90 | Loss: 0.009653178043663502 | Test Loss: 0.02167237363755703\n",
            "Epoch: 100 | Loss: 0.006215679459273815 | Test Loss: 0.014086711220443249\n",
            "Epoch: 110 | Loss: 0.002787243574857712 | Test Loss: 0.005814164876937866\n",
            "Epoch: 120 | Loss: 0.0012645035749301314 | Test Loss: 0.013801807537674904\n",
            "Epoch: 130 | Loss: 0.0012645035749301314 | Test Loss: 0.013801807537674904\n",
            "Epoch: 140 | Loss: 0.0012645035749301314 | Test Loss: 0.013801807537674904\n",
            "Epoch: 150 | Loss: 0.0012645035749301314 | Test Loss: 0.013801807537674904\n",
            "Epoch: 160 | Loss: 0.0012645035749301314 | Test Loss: 0.013801807537674904\n",
            "Epoch: 170 | Loss: 0.0012645035749301314 | Test Loss: 0.013801807537674904\n",
            "Epoch: 180 | Loss: 0.0012645035749301314 | Test Loss: 0.013801807537674904\n",
            "Epoch: 190 | Loss: 0.0012645035749301314 | Test Loss: 0.013801807537674904\n"
          ]
        }
      ]
    },
    {
      "cell_type": "code",
      "source": [
        "model1.state_dict()"
      ],
      "metadata": {
        "colab": {
          "base_uri": "https://localhost:8080/"
        },
        "id": "3IXmNsvnCEAq",
        "outputId": "9302e8fb-367a-47dc-c74b-63a6ad87a7c3"
      },
      "execution_count": 82,
      "outputs": [
        {
          "output_type": "execute_result",
          "data": {
            "text/plain": [
              "OrderedDict([('linear_layer.weight', tensor([[0.6968]])),\n",
              "             ('linear_layer.bias', tensor([0.3025]))])"
            ]
          },
          "metadata": {},
          "execution_count": 82
        }
      ]
    },
    {
      "cell_type": "markdown",
      "source": [
        "### 6.4 Making and evaluating predictions"
      ],
      "metadata": {
        "id": "8Go17SxYCuwI"
      }
    },
    {
      "cell_type": "code",
      "source": [
        "# turn model into evaluation mode\n",
        "# make predictions on the test data\n",
        "model1.eval()\n",
        "with torch.inference_mode():\n",
        "  Y_preds= model1(X_test)\n",
        "Y_preds"
      ],
      "metadata": {
        "colab": {
          "base_uri": "https://localhost:8080/"
        },
        "id": "VqqiNuYjCUC0",
        "outputId": "f5b3472e-b5f9-4b75-d511-08b40115b2b5"
      },
      "execution_count": 85,
      "outputs": [
        {
          "output_type": "execute_result",
          "data": {
            "text/plain": [
              "tensor([[0.8600],\n",
              "        [0.8739],\n",
              "        [0.8878],\n",
              "        [0.9018],\n",
              "        [0.9157],\n",
              "        [0.9296],\n",
              "        [0.9436],\n",
              "        [0.9575],\n",
              "        [0.9714],\n",
              "        [0.9854]])"
            ]
          },
          "metadata": {},
          "execution_count": 85
        }
      ]
    },
    {
      "cell_type": "code",
      "source": [
        "# plot predictions\n",
        "plot_predictions(predictions=Y_preds)"
      ],
      "metadata": {
        "colab": {
          "base_uri": "https://localhost:8080/",
          "height": 599
        },
        "id": "mmmv9vpVE8LE",
        "outputId": "45b47b60-fbde-4c1b-e8f3-b0a9d1da9025"
      },
      "execution_count": 86,
      "outputs": [
        {
          "output_type": "display_data",
          "data": {
            "text/plain": [
              "<Figure size 1000x700 with 1 Axes>"
            ],
            "image/png": "[encoded data removed]"
          },
          "metadata": {}
        }
      ]
    },
    {
      "cell_type": "markdown",
      "source": [
        "### 6.5 Saving and loading a model"
      ],
      "metadata": {
        "id": "cbqOBKg6FjEJ"
      }
    },
    {
      "cell_type": "code",
      "source": [
        "from pathlib import Path\n",
        "\n",
        "# create a model directory\n",
        "MODEL_PATH = Path(\"models\")\n",
        "MODEL_PATH.mkdir(parents=True, exist_ok=True)\n",
        "\n",
        "# Create a model save path\n",
        "MODEL_NAME = \"01_Pytorch_workflow_model1.pth\" # or you coukld use .pt(pytorch)\n",
        "MODEL_SAVE_PATH = MODEL_PATH / MODEL_NAME\n",
        "\n",
        "# Save the model state dict\n",
        "print(f\"Saving Model to: {MODEL_SAVE_PATH}\")\n",
        "torch.save(obj=model1.state_dict(),f = MODEL_SAVE_PATH)"
      ],
      "metadata": {
        "colab": {
          "base_uri": "https://localhost:8080/"
        },
        "id": "n8VMKlqTFpgu",
        "outputId": "870098be-d948-4e96-b926-d89116ecb7e5"
      },
      "execution_count": 90,
      "outputs": [
        {
          "output_type": "stream",
          "name": "stdout",
          "text": [
            "Saving Model to: models/01_Pytorch_workflow_model1.pth\n"
          ]
        }
      ]
    },
    {
      "cell_type": "code",
      "source": [
        "# load a model\n",
        "# create a new instance of linear regressin model\n",
        "loaded_model1 =LinearRegressionModelV2()\n",
        "\n",
        "# load the saved model1 state_dict()\n",
        "loaded_model1.load_state_dict(torch.load(MODEL_SAVE_PATH))"
      ],
      "metadata": {
        "colab": {
          "base_uri": "https://localhost:8080/"
        },
        "id": "9qy3GaeXHqw4",
        "outputId": "fb7275d0-f320-4f16-e620-1cac6d028912"
      },
      "execution_count": 91,
      "outputs": [
        {
          "output_type": "execute_result",
          "data": {
            "text/plain": [
              "<All keys matched successfully>"
            ]
          },
          "metadata": {},
          "execution_count": 91
        }
      ]
    },
    {
      "cell_type": "code",
      "source": [
        "loaded_model1.state_dict()"
      ],
      "metadata": {
        "colab": {
          "base_uri": "https://localhost:8080/"
        },
        "id": "4KX2yN53L45f",
        "outputId": "2a50bdba-f0b0-41fa-e195-4cac7bebdb8e"
      },
      "execution_count": 92,
      "outputs": [
        {
          "output_type": "execute_result",
          "data": {
            "text/plain": [
              "OrderedDict([('linear_layer.weight', tensor([[0.6968]])),\n",
              "             ('linear_layer.bias', tensor([0.3025]))])"
            ]
          },
          "metadata": {},
          "execution_count": 92
        }
      ]
    },
    {
      "cell_type": "code",
      "source": [
        "# Evaluate the loaded model\n",
        "loaded_model1.eval()\n",
        "\n",
        "with torch.inference_mode():\n",
        "  loaded_model1_preds = loaded_model1(X_test)\n",
        "Y_preds == loaded_model1_preds"
      ],
      "metadata": {
        "colab": {
          "base_uri": "https://localhost:8080/"
        },
        "id": "GooS1AFeL_Q9",
        "outputId": "227f0429-8f3b-4f31-fe76-d60d08631920"
      },
      "execution_count": 94,
      "outputs": [
        {
          "output_type": "execute_result",
          "data": {
            "text/plain": [
              "tensor([[True],\n",
              "        [True],\n",
              "        [True],\n",
              "        [True],\n",
              "        [True],\n",
              "        [True],\n",
              "        [True],\n",
              "        [True],\n",
              "        [True],\n",
              "        [True]])"
            ]
          },
          "metadata": {},
          "execution_count": 94
        }
      ]
    }
  ]
}