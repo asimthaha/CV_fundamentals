{
  "nbformat": 4,
  "nbformat_minor": 0,
  "metadata": {
    "colab": {
      "provenance": [],
      "authorship_tag": "ABX9TyNZHvXVY7d9vWxxv0Qd24Wa",
      "include_colab_link": true
    },
    "kernelspec": {
      "name": "python3",
      "display_name": "Python 3"
    },
    "language_info": {
      "name": "python"
    }
  },
  "cells": [
    {
      "cell_type": "markdown",
      "metadata": {
        "id": "view-in-github",
        "colab_type": "text"
      },
      "source": [
        "<a href=\"https://colab.research.google.com/github/asimthaha/Pytorch_fundamentals/blob/main/01_Pytorch_workflow.ipynb\" target=\"_parent\"><img src=\"https://colab.research.google.com/assets/colab-badge.svg\" alt=\"Open In Colab\"/></a>"
      ]
    },
    {
      "cell_type": "markdown",
      "source": [
        "# Pytorch Workflow"
      ],
      "metadata": {
        "id": "K1-x_eIJHovr"
      }
    },
    {
      "cell_type": "code",
      "source": [
        "import torch\n",
        "from torch import nn # nn contains all of pytorches building blocks for neural networks\n",
        "import matplotlib.pyplot as plt\n",
        "\n",
        "torch.__version__"
      ],
      "metadata": {
        "id": "E3-XquG5KRYX",
        "colab": {
          "base_uri": "https://localhost:8080/",
          "height": 36
        },
        "outputId": "093573a8-4283-4071-b0a3-df0f42b933db"
      },
      "execution_count": 1,
      "outputs": [
        {
          "output_type": "execute_result",
          "data": {
            "text/plain": [
              "'2.1.0+cu121'"
            ],
            "application/vnd.google.colaboratory.intrinsic+json": {
              "type": "string"
            }
          },
          "metadata": {},
          "execution_count": 1
        }
      ]
    },
    {
      "cell_type": "markdown",
      "source": [
        "## 1. Data Preparing and Loading\n",
        "\n",
        "excel\n",
        "images\n",
        "videos\n",
        "audios\n",
        "DNA data\n",
        "text\n",
        "\n",
        "ML is a game of two parts:\n",
        "1. data to numerical representation\n",
        "2. build a modle to learn patterns in that numerical representation\n"
      ],
      "metadata": {
        "id": "CjRzWw8QLiy3"
      }
    },
    {
      "cell_type": "code",
      "source": [
        "# create known parameters\n",
        "weight = 0.7\n",
        "bias = 0.3\n",
        "\n",
        "start = 0\n",
        "end=1\n",
        "step = 0.02\n",
        "X = torch.arange(start, end, step).unsqueeze(dim=1)\n",
        "Y = weight * X + bias\n",
        "\n",
        "X[:10], Y[:10], len(X), len(Y)"
      ],
      "metadata": {
        "colab": {
          "base_uri": "https://localhost:8080/"
        },
        "id": "tbiEBqXALr-o",
        "outputId": "c3025fdc-b357-4c57-9aa0-56b1734e7993"
      },
      "execution_count": 2,
      "outputs": [
        {
          "output_type": "execute_result",
          "data": {
            "text/plain": [
              "(tensor([[0.0000],\n",
              "         [0.0200],\n",
              "         [0.0400],\n",
              "         [0.0600],\n",
              "         [0.0800],\n",
              "         [0.1000],\n",
              "         [0.1200],\n",
              "         [0.1400],\n",
              "         [0.1600],\n",
              "         [0.1800]]),\n",
              " tensor([[0.3000],\n",
              "         [0.3140],\n",
              "         [0.3280],\n",
              "         [0.3420],\n",
              "         [0.3560],\n",
              "         [0.3700],\n",
              "         [0.3840],\n",
              "         [0.3980],\n",
              "         [0.4120],\n",
              "         [0.4260]]),\n",
              " 50,\n",
              " 50)"
            ]
          },
          "metadata": {},
          "execution_count": 2
        }
      ]
    },
    {
      "cell_type": "markdown",
      "source": [
        "### splitting the data into train and test set"
      ],
      "metadata": {
        "id": "jkGjskstAo7o"
      }
    },
    {
      "cell_type": "code",
      "source": [
        "train_split = int(0.8 * len(X))\n",
        "train_split"
      ],
      "metadata": {
        "colab": {
          "base_uri": "https://localhost:8080/"
        },
        "id": "Do7A_n5KB4lZ",
        "outputId": "99d80b84-b2c9-4ab4-91e7-5b17569ed01e"
      },
      "execution_count": 3,
      "outputs": [
        {
          "output_type": "execute_result",
          "data": {
            "text/plain": [
              "40"
            ]
          },
          "metadata": {},
          "execution_count": 3
        }
      ]
    },
    {
      "cell_type": "code",
      "source": [
        "X_train, Y_train = X[:train_split], Y[:train_split]\n",
        "X_test, Y_test  = X[train_split:], Y[train_split:]\n",
        "\n",
        "len(X_train), len(Y_train), len(X_test), len(Y_test)"
      ],
      "metadata": {
        "colab": {
          "base_uri": "https://localhost:8080/"
        },
        "id": "V--SUSiaGbz1",
        "outputId": "95c37118-1f5b-4095-fa2b-4619165357b3"
      },
      "execution_count": 4,
      "outputs": [
        {
          "output_type": "execute_result",
          "data": {
            "text/plain": [
              "(40, 40, 10, 10)"
            ]
          },
          "metadata": {},
          "execution_count": 4
        }
      ]
    },
    {
      "cell_type": "markdown",
      "source": [
        "### Visualizing data"
      ],
      "metadata": {
        "id": "SWhylLzDPerD"
      }
    },
    {
      "cell_type": "code",
      "source": [
        "def plot_predictions(train_data=X_train,\n",
        "                     train_labels=Y_train,\n",
        "                     test_data= X_test,\n",
        "                     test_labels=Y_test,\n",
        "                     predictions = None):\n",
        "  \"\"\"\n",
        "  plots training data, test data and compare predictions.\n",
        "  \"\"\"\n",
        "  plt.figure(figsize=(10,7))\n",
        "\n",
        "  # plot training data in blue\n",
        "  plt.scatter(train_data, train_labels, c=\"b\", s=4, label=\"Training Data\")\n",
        "\n",
        "  # plot test data in green\n",
        "  plt.scatter(test_data, test_labels, c=\"g\", s=4, label=\"Testing Data\")\n",
        "\n",
        "  # are there predictions\n",
        "  if predictions is not None:\n",
        "    plt.scatter(test_data, predictions, c=\"r\", s=4, label=\"Predictions\")\n",
        "\n",
        "  # show the legends\n",
        "  plt.legend(prop={\"size\":14});"
      ],
      "metadata": {
        "id": "_s6oYpDsPLjT"
      },
      "execution_count": 5,
      "outputs": []
    },
    {
      "cell_type": "code",
      "source": [
        "plot_predictions();"
      ],
      "metadata": {
        "colab": {
          "base_uri": "https://localhost:8080/",
          "height": 599
        },
        "id": "qCtKjmXGUg8n",
        "outputId": "7c0d02d6-c5b5-4b48-fd8d-156c8538e9b1"
      },
      "execution_count": 6,
      "outputs": [
        {
          "output_type": "display_data",
          "data": {
            "text/plain": [
              "<Figure size 1000x700 with 1 Axes>"
            ],
            "image/png": "[encoded data removed]"
          },
          "metadata": {}
        }
      ]
    },
    {
      "cell_type": "markdown",
      "source": [
        "## 2. Building a model\n",
        "\n",
        "What our model does:\n",
        "* Start with random values (weight, bias)\n",
        "* Look at training data and adjust hte random values to better represent(or get closer to) the ideal values(the weight & bias values we used to create the data)\n",
        "\n",
        "How Does it do so:\n",
        "* Through two main Algo:\n",
        "* Gradient Descent\n",
        "* Back Propagation\n",
        "\n"
      ],
      "metadata": {
        "id": "uZnzsuO9VSsw"
      }
    },
    {
      "cell_type": "code",
      "source": [
        "# create a linear regression model class\n",
        "from torch import nn #(nn = neural networks)\n",
        "\n",
        "class LinearRegressionModel(nn.Module):\n",
        "  # pytorch inherits from nn.Module\n",
        "  # Base class for all neural network modules\n",
        "  def __init__(self):\n",
        "    super().__init__()\n",
        "    self.weights = nn.Parameter(torch.randn(1, # we start with a random weight and try to adjust it to the ideal weight\n",
        "                                            requires_grad=True, # this parameter can be updated via gradient descent\n",
        "                                            dtype = torch.float))\n",
        "    self.bias= nn.Parameter(torch.randn(1,\n",
        "                                        requires_grad=True,\n",
        "                                        dtype=float))\n",
        "\n",
        "    # forward method to define computation in the model\n",
        "  def forward(self, x:torch.Tensor) -> torch.Tensor: # <- \"x\" is the input data\n",
        "    return self.weights * x + self.bias # linear regression formula\n"
      ],
      "metadata": {
        "id": "2qyg5EXcV0tP"
      },
      "execution_count": 7,
      "outputs": []
    },
    {
      "cell_type": "markdown",
      "source": [
        "* inherit the nn.Module class\n",
        "* override the forward method"
      ],
      "metadata": {
        "id": "L6byDNe-_q0m"
      }
    },
    {
      "cell_type": "markdown",
      "source": [
        "### pytorch model building essentials\n",
        "\n",
        "* torch.nn - contains all of the buildings for computational graphs(neural network)\n",
        "* torch..nn.Parameter - what parameter should our model try and learn\n",
        "* torch.nn.Module - base class for all neural network modules(if we use it, override the forward() method)\n",
        "* torch.optim - this is where the optimizer , helps in gradient descent\n",
        "* def forward() - override this method"
      ],
      "metadata": {
        "id": "zf_LR_ker4VL"
      }
    },
    {
      "cell_type": "markdown",
      "source": [
        "### checking the contents of our pytorch model\n",
        "\n",
        "using .parameters()"
      ],
      "metadata": {
        "id": "OMiXVDQIbI1N"
      }
    },
    {
      "cell_type": "code",
      "source": [
        "torch.manual_seed(42)\n",
        "torch.randn(1)"
      ],
      "metadata": {
        "colab": {
          "base_uri": "https://localhost:8080/"
        },
        "id": "Dgy35TFXeSDY",
        "outputId": "be0f95b3-8dcd-4b88-f411-8cbb330ca5bd"
      },
      "execution_count": 15,
      "outputs": [
        {
          "output_type": "execute_result",
          "data": {
            "text/plain": [
              "tensor([0.3367])"
            ]
          },
          "metadata": {},
          "execution_count": 15
        }
      ]
    },
    {
      "cell_type": "code",
      "source": [
        "torch.manual_seed(42)\n",
        "\n",
        "model0 = LinearRegressionModel()\n",
        "\n",
        "# checking the parameters\n",
        "list(model0.parameters())"
      ],
      "metadata": {
        "colab": {
          "base_uri": "https://localhost:8080/"
        },
        "id": "Z-EcVPrUdFDo",
        "outputId": "b608d32b-e54d-435c-b428-c23d11cdc4d8"
      },
      "execution_count": 17,
      "outputs": [
        {
          "output_type": "execute_result",
          "data": {
            "text/plain": [
              "[Parameter containing:\n",
              " tensor([0.2303], requires_grad=True),\n",
              " Parameter containing:\n",
              " tensor([-1.1229], dtype=torch.float64, requires_grad=True)]"
            ]
          },
          "metadata": {},
          "execution_count": 17
        }
      ]
    },
    {
      "cell_type": "code",
      "source": [
        "model0.state_dict()"
      ],
      "metadata": {
        "colab": {
          "base_uri": "https://localhost:8080/"
        },
        "id": "XZUbt1UNe_Ve",
        "outputId": "c2bd2c0c-2c86-4d92-8b89-e3fa691e30b1"
      },
      "execution_count": 18,
      "outputs": [
        {
          "output_type": "execute_result",
          "data": {
            "text/plain": [
              "OrderedDict([('weights', tensor([0.2303])),\n",
              "             ('bias', tensor([-1.1229], dtype=torch.float64))])"
            ]
          },
          "metadata": {},
          "execution_count": 18
        }
      ]
    },
    {
      "cell_type": "markdown",
      "source": [
        "### Making predictions through torch.inference_mode()"
      ],
      "metadata": {
        "id": "e7RlreFqf3dS"
      }
    },
    {
      "cell_type": "code",
      "source": [
        "with torch.inference_mode(): #turns off inference mode for gradient descent\n",
        "  Y_pred = model0(X_test)\n",
        "\n",
        "Y_pred"
      ],
      "metadata": {
        "colab": {
          "base_uri": "https://localhost:8080/"
        },
        "id": "YJASzZADgHAa",
        "outputId": "7b5ad0af-6cfc-4fad-b373-394cb3986580"
      },
      "execution_count": 20,
      "outputs": [
        {
          "output_type": "execute_result",
          "data": {
            "text/plain": [
              "tensor([[-0.9386],\n",
              "        [-0.9340],\n",
              "        [-0.9294],\n",
              "        [-0.9248],\n",
              "        [-0.9202],\n",
              "        [-0.9156],\n",
              "        [-0.9109],\n",
              "        [-0.9063],\n",
              "        [-0.9017],\n",
              "        [-0.8971]], dtype=torch.float64)"
            ]
          },
          "metadata": {},
          "execution_count": 20
        }
      ]
    },
    {
      "cell_type": "code",
      "source": [
        "plot_predictions(predictions=Y_pred)"
      ],
      "metadata": {
        "colab": {
          "base_uri": "https://localhost:8080/",
          "height": 599
        },
        "id": "kWhBihhahVAc",
        "outputId": "48164a8b-14c1-40dc-f8a4-7c5e08994afb"
      },
      "execution_count": 21,
      "outputs": [
        {
          "output_type": "display_data",
          "data": {
            "text/plain": [
              "<Figure size 1000x700 with 1 Axes>"
            ],
            "image/png": "[encoded data removed]"
          },
          "metadata": {}
        }
      ]
    },
    {
      "cell_type": "markdown",
      "source": [
        "## Train the model\n",
        "\n",
        "Loss Function\n",
        "\n",
        "Optimizer\n",
        "\n",
        "\n"
      ],
      "metadata": {
        "id": "5xpj1llSkOxn"
      }
    },
    {
      "cell_type": "code",
      "source": [
        ""
      ],
      "metadata": {
        "id": "X7d-1YxFkTap"
      },
      "execution_count": null,
      "outputs": []
    }
  ]
}