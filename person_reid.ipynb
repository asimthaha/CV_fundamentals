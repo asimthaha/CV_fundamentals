{
  "nbformat": 4,
  "nbformat_minor": 0,
  "metadata": {
    "colab": {
      "provenance": [],
      "gpuType": "T4",
      "authorship_tag": "ABX9TyOEC9UqTH3XC08IkADG76UE",
      "include_colab_link": true
    },
    "kernelspec": {
      "name": "python3",
      "display_name": "Python 3"
    },
    "language_info": {
      "name": "python"
    },
    "accelerator": "GPU"
  },
  "cells": [
    {
      "cell_type": "markdown",
      "metadata": {
        "id": "view-in-github",
        "colab_type": "text"
      },
      "source": [
        "<a href=\"https://colab.research.google.com/github/asimthaha/CV_fundamentals/blob/main/person_reid.ipynb\" target=\"_parent\"><img src=\"https://colab.research.google.com/assets/colab-badge.svg\" alt=\"Open In Colab\"/></a>"
      ]
    },
    {
      "cell_type": "code",
      "source": [
        "import gdown\n",
        "import os\n",
        "\n",
        "# Replace 'your_shareable_link' with the copied shareable link\n",
        "shareable_link = 'https://drive.google.com/file/d/0B8-rUzbwVRk0c054eEozWG9COHM/view?usp=sharing&resourcekey=0-8nyl7K9_x37HlQm34MmrYQ'\n",
        "\n",
        "# Extract the file ID from the shareable link\n",
        "file_id = shareable_link.split('/')[-2]\n",
        "\n",
        "# Construct the download link\n",
        "download_link = f'https://drive.google.com/uc?id={file_id}'\n",
        "\n",
        "output_path = \"/content/reid-data/\"\n",
        "os.makedirs(output_path, exist_ok=True)\n",
        "# Specify the destination path for the downloaded file # Replace with your desired destination path and filename\n",
        "\n",
        "# Download the file\n",
        "gdown.download(download_link, output_path, quiet=False)\n"
      ],
      "metadata": {
        "colab": {
          "base_uri": "https://localhost:8080/",
          "height": 122
        },
        "id": "L85pTGoiTtlW",
        "outputId": "c5934b0b-0077-4a97-e14e-7d24c2d802f0"
      },
      "execution_count": 1,
      "outputs": [
        {
          "output_type": "stream",
          "name": "stderr",
          "text": [
            "Downloading...\n",
            "From (original): https://drive.google.com/uc?id=0B8-rUzbwVRk0c054eEozWG9COHM\n",
            "From (redirected): https://drive.google.com/uc?id=0B8-rUzbwVRk0c054eEozWG9COHM&confirm=t&uuid=9761dd1c-512b-49f2-a636-0bae3d983f71\n",
            "To: /content/reid-data/Market-1501-v15.09.15.zip\n",
            "100%|██████████| 153M/153M [00:04<00:00, 32.1MB/s]\n"
          ]
        },
        {
          "output_type": "execute_result",
          "data": {
            "text/plain": [
              "'/content/reid-data/Market-1501-v15.09.15.zip'"
            ],
            "application/vnd.google.colaboratory.intrinsic+json": {
              "type": "string"
            }
          },
          "metadata": {},
          "execution_count": 1
        }
      ]
    },
    {
      "cell_type": "code",
      "source": [
        "import zipfile\n",
        "import os\n",
        "\n",
        "# Specify the path to the downloaded zip file\n",
        "zip_file_path = '/content/reid-data/Market-1501-v15.09.15.zip'  # Replace with the actual path and filename\n",
        "\n",
        "# Specify the destination directory for extracting the contents\n",
        "extracted_dir_path = '/content/reid-data/market1501'  # Replace with your desired destination path\n",
        "\n",
        "# Create the destination directory if it doesn't exist\n",
        "os.makedirs(extracted_dir_path, exist_ok=True)\n",
        "\n",
        "# Open the zip file and extract its contents\n",
        "with zipfile.ZipFile(zip_file_path, 'r') as zip_ref:\n",
        "    zip_ref.extractall(extracted_dir_path)\n",
        "\n",
        "# Print a message indicating successful extraction\n",
        "print(f\"File '{zip_file_path}' successfully extracted to '{extracted_dir_path}'.\")"
      ],
      "metadata": {
        "colab": {
          "base_uri": "https://localhost:8080/"
        },
        "id": "mXDyMYSlUcFq",
        "outputId": "467db45e-e742-4b84-a3b4-e242f46c095e"
      },
      "execution_count": 2,
      "outputs": [
        {
          "output_type": "stream",
          "name": "stdout",
          "text": [
            "File '/content/reid-data/Market-1501-v15.09.15.zip' successfully extracted to '/content/reid-data/market1501'.\n"
          ]
        }
      ]
    },
    {
      "cell_type": "code",
      "execution_count": 3,
      "metadata": {
        "colab": {
          "base_uri": "https://localhost:8080/"
        },
        "id": "JyCs256AGzCd",
        "outputId": "1f87df7d-f925-4de4-d0b3-57ec7db4c824"
      },
      "outputs": [
        {
          "output_type": "stream",
          "name": "stdout",
          "text": [
            "Collecting torchreid\n",
            "  Downloading torchreid-0.2.5.tar.gz (92 kB)\n",
            "\u001b[2K     \u001b[90m━━━━━━━━━━━━━━━━━━━━━━━━━━━━━━━━━━━━━━━━\u001b[0m \u001b[32m92.7/92.7 kB\u001b[0m \u001b[31m2.2 MB/s\u001b[0m eta \u001b[36m0:00:00\u001b[0m\n",
            "\u001b[?25h  Preparing metadata (setup.py) ... \u001b[?25l\u001b[?25hdone\n",
            "Building wheels for collected packages: torchreid\n",
            "  Building wheel for torchreid (setup.py) ... \u001b[?25l\u001b[?25hdone\n",
            "  Created wheel for torchreid: filename=torchreid-0.2.5-py3-none-any.whl size=144325 sha256=ef30c82d20ff00ec3104a3ef1d843d496c5f8cd641c8ad1c3f73dbf524d7bf6a\n",
            "  Stored in directory: /root/.cache/pip/wheels/bb/2d/36/816a48465cefd3e58be0317648a4c52ce39ae817f935212099\n",
            "Successfully built torchreid\n",
            "Installing collected packages: torchreid\n",
            "Successfully installed torchreid-0.2.5\n"
          ]
        }
      ],
      "source": [
        "!pip install torchreid"
      ]
    },
    {
      "cell_type": "code",
      "source": [
        "import torchreid\n",
        "import torch"
      ],
      "metadata": {
        "id": "WqgZK6XuG6ap"
      },
      "execution_count": null,
      "outputs": []
    },
    {
      "cell_type": "code",
      "source": [
        "datamanager = torchreid.data.ImageDataManager(\n",
        "    root=\"/content/reid-data\",\n",
        "    sources=\"market1501\",\n",
        "    targets=\"market1501\",\n",
        "    height=256,\n",
        "    width=128,\n",
        "    batch_size_train=32,\n",
        "    batch_size_test=100,\n",
        "    transforms=[\"random_flip\", \"random_crop\"]\n",
        ")"
      ],
      "metadata": {
        "id": "1RVXM4cRHcJS"
      },
      "execution_count": null,
      "outputs": []
    },
    {
      "cell_type": "code",
      "source": [
        "model = torchreid.models.build_model(\n",
        "    name=\"resnet50\",\n",
        "    num_classes=datamanager.num_train_pids,\n",
        "    loss=\"softmax\",\n",
        "    pretrained=True\n",
        ")\n",
        "\n",
        "# model = model.cuda()\n",
        "\n",
        "optimizer = torchreid.optim.build_optimizer(\n",
        "    model,\n",
        "    optim=\"adam\",\n",
        "    lr=0.0003\n",
        ")\n",
        "\n",
        "scheduler = torchreid.optim.build_lr_scheduler(\n",
        "    optimizer,\n",
        "    lr_scheduler=\"single_step\",\n",
        "    stepsize=20\n",
        ")"
      ],
      "metadata": {
        "id": "O_E4yBsHHg8t"
      },
      "execution_count": null,
      "outputs": []
    },
    {
      "cell_type": "code",
      "source": [
        "engine = torchreid.engine.ImageSoftmaxEngine(\n",
        "    datamanager,\n",
        "    model,\n",
        "    optimizer=optimizer,\n",
        "    scheduler=scheduler,\n",
        "    label_smooth=True\n",
        ")"
      ],
      "metadata": {
        "id": "DYnnfxJvH-Yr"
      },
      "execution_count": null,
      "outputs": []
    },
    {
      "cell_type": "code",
      "source": [
        "import os\n",
        "# Specify the directory to save the model\n",
        "save_dir = \"/content/torchreid/\"\n",
        "os.makedirs(save_dir, exist_ok=True)  # Create the directory if it doesn't exist\n",
        "\n",
        "# Save the entire model\n",
        "save_path = os.path.join(save_dir, \"model.pth\")  # Replace with your desired filename\n",
        "torch.save(model, save_path)\n",
        "print(f\"Model saved at {save_path}\")"
      ],
      "metadata": {
        "id": "Pp_ra6uZeNNH"
      },
      "execution_count": null,
      "outputs": []
    },
    {
      "cell_type": "code",
      "source": [
        "import torch\n",
        "from torchvision import transforms\n",
        "from PIL import Image\n",
        "\n",
        "# Load the trained model (assuming 'model' is your torchreid model)\n",
        "model_path = \"/content/torchreid/model.pth\"  # Replace with your actual path\n",
        "model = torch.load(model_path) if torch.cuda.is_available() else torch.load(model_path, map_location='cpu')\n",
        "model.eval()\n",
        "\n",
        "# Define a transformation for input images\n",
        "transform = transforms.Compose([\n",
        "    transforms.Resize((256, 128)),  # Resize to the model's expected size\n",
        "    transforms.ToTensor(),\n",
        "    transforms.Normalize(mean=[0.485, 0.456, 0.406], std=[0.229, 0.224, 0.225]),\n",
        "])\n",
        "\n",
        "# Function to get embeddings from an image\n",
        "def get_embedding(image_path):\n",
        "    image = Image.open(image_path).convert(\"RGB\")\n",
        "    image = transform(image)\n",
        "    image = image.unsqueeze(0)  # Add batch dimension\n",
        "    with torch.no_grad():\n",
        "        embeddings = model(image)\n",
        "\n",
        "    return embeddings\n",
        "\n",
        "# List of image paths for inference\n",
        "image_paths = [\"/content/images/1436_c3s3_072844_01.jpg\", \"/content/images/1436_c3s3_073319_02.jpg\", \"/content/images/1436_c5s3_073487_07.jpg\", '/content/images/1438_c2s3_049707_01.jpg',\n",
        "               \"/content/images/1436_c5s3_073462_01.jpg\", \"/content/images/1448_c6s3_081042_04.jpg\", \"/content/images/1465_c6s3_082792_02.jpg\"]\n",
        "\n",
        "# Dictionary to store person IDs\n",
        "person_ids = {}\n",
        "threshold = 0.3\n",
        "\n",
        "# Inference loop\n",
        "for image_path in image_paths:\n",
        "    # Get embedding for the current image\n",
        "    current_embedding = get_embedding(image_path)\n",
        "\n",
        "    # Matching mechanism (simplified)\n",
        "    best_similarity = 0.0\n",
        "    matched_person_id = None\n",
        "\n",
        "    for person_id, reference_embedding in person_ids.items():\n",
        "        similarity = torch.nn.functional.cosine_similarity(current_embedding, reference_embedding)\n",
        "        print(f\"Similarity between current and {person_id}: {similarity.item()}\")\n",
        "\n",
        "        if similarity > best_similarity:\n",
        "            best_similarity = similarity\n",
        "            matched_person_id = person_id\n",
        "\n",
        "    if best_similarity > threshold:\n",
        "        print(f\"Best similarity for {image_path}: {best_similarity.item()}\")\n",
        "        print(f\"Assigned Person ID: {matched_person_id}\")\n",
        "    else:\n",
        "        # If no match found, assign a new ID\n",
        "        new_person_id = len(person_ids) + 1\n",
        "        person_ids[new_person_id] = current_embedding\n",
        "        matched_person_id = new_person_id\n",
        "\n",
        "        print(f\"No match found for {image_path}. Assigned new Person ID: {matched_person_id}\")\n",
        "\n",
        "    # Visualization: Display the image with assigned person ID\n",
        "    image = Image.open(image_path)\n",
        "    plt.imshow(image)\n",
        "    plt.title(f\"Person ID: {matched_person_id}\")\n",
        "    plt.show()"
      ],
      "metadata": {
        "id": "FB2Rdmck-YJC"
      },
      "execution_count": null,
      "outputs": []
    }
  ]
}